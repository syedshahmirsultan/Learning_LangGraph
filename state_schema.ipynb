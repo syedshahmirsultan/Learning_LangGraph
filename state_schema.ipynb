{
 "cells": [
  {
   "cell_type": "code",
   "execution_count": 4,
   "metadata": {},
   "outputs": [],
   "source": [
    "! pip install -U -q langgraph langchain-google-genai langchain_core"
   ]
  },
  {
   "cell_type": "code",
   "execution_count": null,
   "metadata": {},
   "outputs": [
    {
     "name": "stdout",
     "output_type": "stream",
     "text": [
      "{'foo': 'Hello', 'bar': 'World'}\n"
     ]
    }
   ],
   "source": [
    "from langchain_google_genai import ChatGoogleGenerativeAI\n",
    "import os\n",
    "from dotenv import load_dotenv\n",
    "from typing_extensions import TypedDict\n",
    "\n",
    "# TypedDictState Class\n",
    "class TypedDictState(TypedDict):\n",
    "    foo:str\n",
    "    bar:str\n",
    "\n",
    "\n",
    "obj1 : TypedDictState = TypedDictState(foo=\"Hello\",bar=\"World\")\n",
    "print(obj1)"
   ]
  },
  {
   "cell_type": "code",
   "execution_count": 61,
   "metadata": {},
   "outputs": [
    {
     "data": {
      "text/plain": [
       "{'name': 1, 'mood': 'mad', 'random_field': 'XYZ'}"
      ]
     },
     "execution_count": 61,
     "metadata": {},
     "output_type": "execute_result"
    }
   ],
   "source": [
    "from typing import Literal\n",
    "\n",
    "class TypedDictState(TypedDict):\n",
    "    name:str\n",
    "    mood:Literal['happy','sad']\n",
    "\n",
    "# Does not raise error even if you provide more or less keys or of different data types as defined in the class\n",
    "obj2 :TypedDictState = TypedDictState(name=1,mood=\"mad\",random_field=\"XYZ\")\n",
    "obj2"
   ]
  },
  {
   "cell_type": "code",
   "execution_count": 62,
   "metadata": {},
   "outputs": [],
   "source": [
    "from langgraph.graph import StateGraph,START,END\n",
    "from IPython.display import display,Image\n",
    "from langgraph.graph.state import CompiledStateGraph\n",
    "import random\n",
    "\n",
    "def node_1(state:TypedDictState):\n",
    "    print(\"Node 1\")\n",
    "    return {\"name\":state[\"name\"]+ \" is ....\"}\n",
    "\n",
    "def node_2(state:TypedDictState):\n",
    "   print(\"node 2\")\n",
    "   return {'mood':'happy'}\n",
    "\n",
    "def node_3(state:TypedDictState):\n",
    "    print(\"node 3\")\n",
    "    return {\"mood\":\"sad\"}\n",
    "\n",
    "def decide_mood(state:TypedDictState)-> Literal['node2','node3']:\n",
    "    if random.random() > 0.5:\n",
    "       return 'node2'\n",
    "    return 'node3'"
   ]
  },
  {
   "cell_type": "code",
   "execution_count": 63,
   "metadata": {},
   "outputs": [
    {
     "data": {
      "image/png": "[encoded data removed]",
      "text/plain": [
       "<IPython.core.display.Image object>"
      ]
     },
     "metadata": {},
     "output_type": "display_data"
    }
   ],
   "source": [
    "\n",
    "workflow:StateGraph = StateGraph(TypedDictState)\n",
    "\n",
    "workflow.add_node('node1',node_1)\n",
    "workflow.add_node('node2',node_2)\n",
    "workflow.add_node('node3',node_3)\n",
    "\n",
    "workflow.add_edge(START,'node1')\n",
    "workflow.add_conditional_edges(\n",
    "    'node1', decide_mood )\n",
    "workflow.add_edge('node2',END)\n",
    "workflow.add_edge('node3',END)\n",
    "\n",
    "graph:CompiledStateGraph = workflow.compile()\n",
    "\n",
    "display(Image(graph.get_graph().draw_mermaid_png()))"
   ]
  },
  {
   "cell_type": "code",
   "execution_count": 64,
   "metadata": {},
   "outputs": [
    {
     "name": "stdout",
     "output_type": "stream",
     "text": [
      "Node 1\n",
      "node 3\n"
     ]
    },
    {
     "data": {
      "text/plain": [
       "{'name': 'Shahmir is ....', 'mood': 'sad'}"
      ]
     },
     "execution_count": 64,
     "metadata": {},
     "output_type": "execute_result"
    }
   ],
   "source": [
    "graph.invoke({'name':'Shahmir'})"
   ]
  },
  {
   "cell_type": "code",
   "execution_count": 75,
   "metadata": {},
   "outputs": [],
   "source": [
    "from dataclasses import dataclass\n",
    "\n",
    "@dataclass\n",
    "class DataClassState:\n",
    "    name:str\n",
    "    mood:Literal['happy','sad']\n",
    "\n",
    "\n",
    "def node_1(state:DataClassState):\n",
    "    print(\"node 1\")\n",
    "    return {'name':state.name}\n",
    "\n",
    "def node_2(state:DataClassState):\n",
    "    print('node 2')\n",
    "    return {'mood':'happy'}\n",
    "\n",
    "def node_3(state:DataClassState):\n",
    "    print('node 3')\n",
    "    return {'mood':'sad'}\n",
    "\n",
    "def decide_mood(state:DataClassState)->Literal['node2','node3']:\n",
    "    if random.random() > 0.5:\n",
    "        return 'node2'\n",
    "    return 'node3'"
   ]
  },
  {
   "cell_type": "code",
   "execution_count": 76,
   "metadata": {},
   "outputs": [
    {
     "data": {
      "image/png": "[encoded data removed]",
      "text/plain": [
       "<IPython.core.display.Image object>"
      ]
     },
     "metadata": {},
     "output_type": "display_data"
    }
   ],
   "source": [
    "workflow : StateGraph = StateGraph(DataClassState)\n",
    "\n",
    "workflow.add_node('node1',node_1)\n",
    "workflow.add_node('node2',node_2)\n",
    "workflow.add_node('node3',node_3)\n",
    "\n",
    "workflow.set_entry_point('node1')\n",
    "workflow.add_conditional_edges('node1',decide_mood)\n",
    "\n",
    "workflow.add_edge('node2',END)\n",
    "workflow.add_edge('node3',END)\n",
    "\n",
    "graph : CompiledStateGraph = workflow.compile()\n",
    "\n",
    "display(Image(graph.get_graph().draw_mermaid_png()))"
   ]
  },
  {
   "cell_type": "code",
   "execution_count": 77,
   "metadata": {},
   "outputs": [
    {
     "ename": "TypeError",
     "evalue": "DataClassState.__init__() missing 1 required positional argument: 'mood'",
     "output_type": "error",
     "traceback": [
      "\u001b[1;31m---------------------------------------------------------------------------\u001b[0m",
      "\u001b[1;31mTypeError\u001b[0m                                 Traceback (most recent call last)",
      "Cell \u001b[1;32mIn[77], line 2\u001b[0m\n\u001b[0;32m      1\u001b[0m \u001b[38;5;66;03m# In dataclasses It will only give error if you missed any key of class\u001b[39;00m\n\u001b[1;32m----> 2\u001b[0m graph\u001b[38;5;241m.\u001b[39minvoke(DataClassState(name\u001b[38;5;241m=\u001b[39m\u001b[38;5;124m\"\u001b[39m\u001b[38;5;124mJack\u001b[39m\u001b[38;5;124m\"\u001b[39m))\n",
      "\u001b[1;31mTypeError\u001b[0m: DataClassState.__init__() missing 1 required positional argument: 'mood'"
     ]
    }
   ],
   "source": [
    "# In dataclasses It will only give error if you missed any key of class\n",
    "graph.invoke(DataClassState(name=\"Jack\"))"
   ]
  },
  {
   "cell_type": "code",
   "execution_count": 80,
   "metadata": {},
   "outputs": [
    {
     "name": "stdout",
     "output_type": "stream",
     "text": [
      "node 1\n",
      "node 2\n"
     ]
    },
    {
     "data": {
      "text/plain": [
       "{'name': 1, 'mood': 'happy'}"
      ]
     },
     "execution_count": 80,
     "metadata": {},
     "output_type": "execute_result"
    }
   ],
   "source": [
    "# But it also not gives any error if you pass different data type from the one defined inside of the class\n",
    "graph.invoke(DataClassState(name=1,mood='mad'))"
   ]
  },
  {
   "cell_type": "markdown",
   "metadata": {},
   "source": [
    "As mentioned, TypedDict and dataclasses provide type hints but they don't enforce types at runtime.\n",
    "\n",
    "This means you could potentially assign invalid values without raising an error!\n",
    "\n",
    "For example, we can set mood to mad even though our type hint specifies  `mood: list[Literal[\"happy\",\"sad\"]]`."
   ]
  },
  {
   "cell_type": "code",
   "execution_count": 58,
   "metadata": {},
   "outputs": [
    {
     "name": "stdout",
     "output_type": "stream",
     "text": [
      "Validation Error: 1 validation error for PydanticState\n",
      "mood\n",
      "  Input should be 'happy' or 'sad' [type=literal_error, input_value='mad', input_type=str]\n",
      "    For further information visit https://errors.pydantic.dev/2.9/v/literal_error\n"
     ]
    }
   ],
   "source": [
    "from pydantic import BaseModel,ValidationError\n",
    "\n",
    "class PydanticState(BaseModel):\n",
    "    name:str\n",
    "    mood:Literal['happy','sad']\n",
    "\n",
    "try:\n",
    "    state = PydanticState(name=\"John Doe\", mood=\"mad\")\n",
    "except ValidationError as e:\n",
    "    print(\"Validation Error:\", e)"
   ]
  }
 ],
 "metadata": {
  "kernelspec": {
   "display_name": "streamlit",
   "language": "python",
   "name": "python3"
  },
  "language_info": {
   "codemirror_mode": {
    "name": "ipython",
    "version": 3
   },
   "file_extension": ".py",
   "mimetype": "text/x-python",
   "name": "python",
   "nbconvert_exporter": "python",
   "pygments_lexer": "ipython3",
   "version": "3.11.10"
  }
 },
 "nbformat": 4,
 "nbformat_minor": 2
}

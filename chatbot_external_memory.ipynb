{
 "cells": [
  {
   "cell_type": "code",
   "execution_count": 25,
   "metadata": {},
   "outputs": [
    {
     "name": "stdout",
     "output_type": "stream",
     "text": [
      "^C\n"
     ]
    }
   ],
   "source": [
    "! pip install -qU langgraph langgraph-checkpoint-postgres psycopg psycopg[binary] psycopg-pool langchain_google_genai\n"
   ]
  },
  {
   "cell_type": "code",
   "execution_count": 26,
   "metadata": {},
   "outputs": [],
   "source": [
    "from langchain_google_genai import ChatGoogleGenerativeAI\n",
    "from langgraph.graph import StateGraph,MessagesState,END,START\n",
    "from langgraph.graph.state import CompiledStateGraph\n",
    "from IPython.display import Image, display\n",
    "from langchain_core.messages import HumanMessage\n",
    "from dotenv import load_dotenv\n",
    "import os\n",
    "\n",
    "load_dotenv()\n",
    "\n",
    "db_url = os.getenv('DB_URL')\n",
    "google_api = os.getenv('GEMINI_API_KEY')\n",
    "\n",
    "llm:ChatGoogleGenerativeAI = ChatGoogleGenerativeAI(model='gemini-1.5-flash',api_key=google_api)\n"
   ]
  },
  {
   "cell_type": "code",
   "execution_count": 27,
   "metadata": {},
   "outputs": [],
   "source": [
    "from psycopg_pool import ConnectionPool\n",
    "from langgraph.checkpoint.postgres import PostgresSaver\n",
    "\n",
    "# Connection pool for efficient database access\n",
    "connection_kwargs = {\"autocommit\": True, \"prepare_threshold\": 0}\n",
    "\n",
    "\n",
    "# Create a persistent connection pool\n",
    "pool = ConnectionPool(conninfo=db_url, max_size=20, kwargs=connection_kwargs)\n",
    "\n",
    "# Initialize PostgresSaver checkpointer\n",
    "checkpoint = PostgresSaver(pool)\n",
    "checkpoint.setup()  # Ensure database tables are set up"
   ]
  },
  {
   "cell_type": "code",
   "execution_count": 28,
   "metadata": {},
   "outputs": [
    {
     "data": {
      "image/png": "[encoded data removed]",
      "text/plain": [
       "<IPython.core.display.Image object>"
      ]
     },
     "metadata": {},
     "output_type": "display_data"
    }
   ],
   "source": [
    "\n",
    "class State(MessagesState):\n",
    "    pass\n",
    "\n",
    "def chatbot(state:State):\n",
    "    return {'messages':llm.invoke(state['messages'])}\n",
    "\n",
    "workflow : StateGraph = StateGraph(State)\n",
    "\n",
    "workflow.add_node('chatbot',chatbot)\n",
    "\n",
    "workflow.add_edge(START,'chatbot')\n",
    "workflow.add_edge('chatbot',END)\n",
    "\n",
    "graph:CompiledStateGraph = workflow.compile(checkpointer=checkpoint)\n",
    "\n",
    "display(Image(graph.get_graph().draw_mermaid_png()))"
   ]
  },
  {
   "cell_type": "code",
   "execution_count": 41,
   "metadata": {},
   "outputs": [
    {
     "name": "stdout",
     "output_type": "stream",
     "text": [
      "==================================\u001b[1m Ai Message \u001b[0m==================================\n",
      "\n",
      "Abstract paintings use color, shape, and composition to express ideas and emotions without depicting recognizable objects.\n"
     ]
    },
    {
     "data": {
      "text/plain": [
       "StateSnapshot(values={'messages': [HumanMessage(content='Can you describe about abstract paintings?', additional_kwargs={}, response_metadata={}, id='f692dfd0-ee1c-4546-a343-24c2059b7486'), AIMessage(content='Abstract paintings are works of art that don\\'t depict recognizable objects or scenes from the real world.  Instead, they focus on expressing ideas, emotions, or formal elements like color, line, shape, form, and texture.  They move beyond representation and explore the visual language of art itself.\\n\\nHere\\'s a breakdown of key aspects:\\n\\n* **Emphasis on Form and Composition:**  The arrangement of elements within the painting—the interplay of colors, shapes, lines, and textures—is paramount.  The overall composition becomes the subject matter, rather than a depiction of something external.\\n\\n* **Non-representational:**  Unlike realistic or impressionistic paintings, abstract art doesn\\'t attempt to mimic reality.  It may suggest forms or evoke feelings, but it doesn\\'t strive for literal representation.\\n\\n* **Expressiveness:**  Abstract paintings often aim to convey emotion or a particular mood through the use of color, brushstrokes, and composition.  The artist\\'s subjective experience is central.\\n\\n* **Variety of Styles:**  Abstract art encompasses a vast range of styles, including:\\n\\n    * **Geometric Abstraction:**  Utilizes geometric shapes and forms, often with a focus on order and structure (e.g., Piet Mondrian).\\n    * **Lyrical Abstraction:**  Emphasizes fluidity, spontaneity, and emotional expression through color and gesture (e.g., Helen Frankenthaler).\\n    * **Abstract Expressionism:**  Characterized by large-scale canvases, gestural brushstrokes, and a focus on the process of painting itself (e.g., Jackson Pollock).\\n    * **Color Field Painting:**  Emphasizes the emotional impact of large areas of flat color (e.g., Mark Rothko).\\n\\n* **Subjectivity and Interpretation:**  The meaning of an abstract painting is often open to interpretation by the viewer.  There\\'s no single \"correct\" understanding, allowing for personal engagement and reflection.\\n\\n* **Evolution and Influence:**  Abstract art has greatly influenced subsequent art movements and continues to be a vital part of contemporary art.  Its influence can be seen in various design fields as well.\\n\\n\\nIn short, abstract painting is a powerful and versatile form of artistic expression that challenges traditional notions of representation and offers viewers a unique opportunity for personal engagement with the visual language of art.\\n', additional_kwargs={}, response_metadata={'prompt_feedback': {'block_reason': 0, 'safety_ratings': []}, 'finish_reason': 'STOP', 'safety_ratings': []}, id='run-029e60c4-f83e-44f7-985d-c88a14a0fa19-0', usage_metadata={'input_tokens': 8, 'output_tokens': 479, 'total_tokens': 487, 'input_token_details': {'cache_read': 0}}), HumanMessage(content='Can you describe about abstract paintings?', additional_kwargs={}, response_metadata={}, id='6fec912b-1a87-403d-87fc-415e0479aa9b'), AIMessage(content='Abstract paintings are works of art that don\\'t aim to represent the real world in a recognizable way.  Instead, they prioritize the exploration of form, color, composition, and the expressive qualities of paint itself.  Think of it as a visual language that communicates ideas and emotions through non-representational means.\\n\\nHere are some key aspects:\\n\\n* **Non-representational:** Unlike realistic or impressionistic paintings, abstract art doesn\\'t depict objects or scenes from the observable world.  It moves beyond representation to focus on the intrinsic qualities of the art materials and the artist\\'s process.\\n\\n* **Emphasis on Formal Elements:**  The core components—color, line, shape, texture, and composition—are the primary subjects.  The relationships between these elements and the way they\\'re arranged create the visual impact and meaning.\\n\\n* **Expressiveness:** Abstract art often conveys emotion, mood, or ideas indirectly.  The artist\\'s personal feelings and experiences can be powerfully communicated through the choices made in color palette, brushstrokes, and overall composition.\\n\\n* **Subjectivity and Interpretation:**  Unlike representational art, where the subject is relatively clear, abstract art often leaves room for multiple interpretations. The viewer\\'s personal experiences and perspectives shape their understanding of the artwork.\\n\\n* **Diverse Styles:** The umbrella term \"abstract painting\" encompasses many diverse approaches, including:\\n\\n    * **Geometric Abstraction:**  Uses geometric shapes and forms, often emphasizing order, structure, and mathematical principles.  (Think Piet Mondrian)\\n    * **Lyrical Abstraction:**  Focuses on fluidity, spontaneity, and emotional expression through color and gesture.  (Think Helen Frankenthaler)\\n    * **Abstract Expressionism:**  Characterized by large-scale canvases, energetic brushstrokes, and a focus on the process of painting itself. (Think Jackson Pollock)\\n    * **Color Field Painting:**  Emphasizes the emotional impact of large areas of flat color, often with subtle variations and gradations. (Think Mark Rothko)\\n\\n\\nIn essence, abstract painting is a powerful tool for visual communication that transcends literal representation, allowing artists to explore the expressive potential of form, color, and composition in unique and often profoundly moving ways.  It invites viewers to engage actively with the artwork, bringing their own interpretations and experiences to the process of understanding.\\n', additional_kwargs={}, response_metadata={'prompt_feedback': {'block_reason': 0, 'safety_ratings': []}, 'finish_reason': 'STOP', 'safety_ratings': []}, id='run-4e47f49c-fad6-48b7-8549-d235de297771-0', usage_metadata={'input_tokens': 496, 'output_tokens': 481, 'total_tokens': 977, 'input_token_details': {'cache_read': 0}}), HumanMessage(content='Can you describe about abstract paintings?', additional_kwargs={}, response_metadata={}, id='815db32d-4fdf-40f3-8c94-a8adcf93bb48'), AIMessage(content='Abstract paintings are works of art that don\\'t depict recognizable objects or scenes from the real world. Instead, they use elements like color, shape, line, texture, and composition to create a visual experience that evokes emotions, ideas, or sensations.  They\\'re not about *what* is depicted, but *how* the elements are used to create a feeling or meaning.\\n\\nHere\\'s a breakdown of key characteristics:\\n\\n* **Non-representational:**  This is the core defining feature.  Unlike realistic or even impressionistic art, abstract paintings don\\'t attempt to represent something from observable reality.  There are no recognizable figures, landscapes, or objects.\\n\\n* **Emphasis on Formal Elements:** The focus shifts entirely to the visual elements themselves.  The artist\\'s choices regarding color palette (e.g., warm vs. cool, bright vs. muted), line quality (e.g., thick, thin, jagged, smooth), shapes (e.g., geometric, organic), and texture (e.g., smooth, rough, impasto) are central to the work\\'s meaning and impact.\\n\\n* **Composition as Subject:** The arrangement of these elements within the painting—the composition—is crucial.  The interplay of shapes, colors, and lines creates a visual rhythm and structure that becomes the subject matter itself.\\n\\n* **Expressive Power:** Abstract art often aims to convey emotions or ideas indirectly.  A vibrant, chaotic painting might express energy and excitement, while a calm, minimalist piece could convey serenity or contemplation.  The viewer\\'s interpretation plays a key role.\\n\\n* **Subjectivity and Open Interpretation:**  Unlike representational art where the subject is usually clear, abstract art often allows for multiple interpretations.  There\\'s no single \"correct\" reading; the meaning is open to the viewer\\'s personal experience and perspective.\\n\\n* **Diverse Styles:** Abstract art is not a monolithic style.  It encompasses a wide range of approaches, including:\\n\\n    * **Geometric Abstraction:** Uses geometric shapes and forms, often emphasizing order and structure. (Think Piet Mondrian)\\n    * **Lyrical Abstraction:**  Emphasizes fluidity, spontaneity, and emotional expression through color and gesture. (Think Helen Frankenthaler)\\n    * **Abstract Expressionism:**  Characterized by large-scale canvases, gestural brushstrokes, and a focus on the process of painting itself. (Think Jackson Pollock)\\n    * **Color Field Painting:**  Focuses on the emotional impact of large areas of flat color. (Think Mark Rothko)\\n\\n\\nIn essence, abstract painting is a powerful form of visual communication that moves beyond representation to explore the expressive potential of the elements of art themselves.  It invites viewers to actively participate in creating meaning, bringing their own experiences and interpretations to the work.\\n', additional_kwargs={}, response_metadata={'prompt_feedback': {'block_reason': 0, 'safety_ratings': []}, 'finish_reason': 'STOP', 'safety_ratings': []}, id='run-0fa08638-4b38-4517-b849-2b8e4cbc6051-0', usage_metadata={'input_tokens': 986, 'output_tokens': 578, 'total_tokens': 1564, 'input_token_details': {'cache_read': 0}}), HumanMessage(content='Can you describe about abstract paintings? in 1 line', additional_kwargs={}, response_metadata={}, id='db3eb2ab-37b1-4c26-9a57-7d9bea76043a'), AIMessage(content='Abstract paintings use color, shape, and composition to express ideas and emotions without depicting recognizable objects.\\n', additional_kwargs={}, response_metadata={'prompt_feedback': {'block_reason': 0, 'safety_ratings': []}, 'finish_reason': 'STOP', 'safety_ratings': []}, id='run-f93a9821-e27a-40c5-bceb-d9b6af507958-0', usage_metadata={'input_tokens': 1577, 'output_tokens': 20, 'total_tokens': 1597, 'input_token_details': {'cache_read': 0}})]}, next=(), config={'configurable': {'thread_id': '1', 'checkpoint_ns': '', 'checkpoint_id': '1efbb9e8-55e6-6129-800a-0893d35363d9'}}, metadata={'step': 10, 'source': 'loop', 'writes': {'chatbot': {'messages': AIMessage(content='Abstract paintings use color, shape, and composition to express ideas and emotions without depicting recognizable objects.\\n', additional_kwargs={}, response_metadata={'finish_reason': 'STOP', 'safety_ratings': [], 'prompt_feedback': {'block_reason': 0, 'safety_ratings': []}}, id='run-f93a9821-e27a-40c5-bceb-d9b6af507958-0', usage_metadata={'input_tokens': 1577, 'output_tokens': 20, 'total_tokens': 1597, 'input_token_details': {'cache_read': 0}})}}, 'parents': {}, 'thread_id': '1'}, created_at='2024-12-16T11:11:38.855658+00:00', parent_config={'configurable': {'thread_id': '1', 'checkpoint_ns': '', 'checkpoint_id': '1efbb9e8-4f0b-6d4f-8009-b00bc5d747d8'}}, tasks=())"
      ]
     },
     "execution_count": 41,
     "metadata": {},
     "output_type": "execute_result"
    }
   ],
   "source": [
    "# Configuration for thread\n",
    "config = {\"configurable\": {\"thread_id\": \"1\"}}\n",
    "\n",
    "# Start a conversation\n",
    "input_message = HumanMessage(content=\"Can you describe about abstract paintings? in 1 line\")\n",
    "output = graph.invoke({\"messages\": [input_message]}, config)\n",
    "for m in output['messages'][-1:]:\n",
    "    m.pretty_print()\n",
    "\n",
    "graph_state = graph.get_state(config)\n",
    "graph_state\n"
   ]
  },
  {
   "cell_type": "code",
   "execution_count": 42,
   "metadata": {},
   "outputs": [],
   "source": [
    "pool.close()"
   ]
  }
 ],
 "metadata": {
  "kernelspec": {
   "display_name": "streamlit",
   "language": "python",
   "name": "python3"
  },
  "language_info": {
   "codemirror_mode": {
    "name": "ipython",
    "version": 3
   },
   "file_extension": ".py",
   "mimetype": "text/x-python",
   "name": "python",
   "nbconvert_exporter": "python",
   "pygments_lexer": "ipython3",
   "version": "3.11.10"
  }
 },
 "nbformat": 4,
 "nbformat_minor": 2
}

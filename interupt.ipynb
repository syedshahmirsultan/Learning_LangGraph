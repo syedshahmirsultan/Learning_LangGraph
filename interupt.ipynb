{
 "cells": [
  {
   "cell_type": "code",
   "execution_count": 2,
   "metadata": {},
   "outputs": [],
   "source": [
    "! pip install -qU langgraph"
   ]
  },
  {
   "cell_type": "code",
   "execution_count": 3,
   "metadata": {},
   "outputs": [
    {
     "data": {
      "image/png": "[encoded data removed]",
      "text/plain": [
       "<IPython.core.display.Image object>"
      ]
     },
     "metadata": {},
     "output_type": "display_data"
    }
   ],
   "source": [
    "from typing_extensions import TypedDict\n",
    "from langgraph.graph import StateGraph,END,START\n",
    "from langgraph.graph.state import CompiledStateGraph\n",
    "from IPython.display import display,Image\n",
    "from langgraph.types import interrupt ,Command\n",
    "from langgraph.checkpoint.memory import MemorySaver\n",
    "\n",
    "\n",
    "class State(TypedDict):\n",
    "    input:str\n",
    "    user_feedback:str\n",
    "    \n",
    "    \n",
    "def node_1(state:State):\n",
    "    print(\"--- Node 1 ---\")\n",
    "    pass\n",
    "\n",
    "\n",
    "def human_feedback(state:State):\n",
    "    print(\"--- Human Feedback ---\")\n",
    "    feedback = interrupt(\"Please Provide Feedback\")\n",
    "    return {\"user_feedback\":feedback}\n",
    "\n",
    "def node_2(state:State):\n",
    "    print(\"--- Node 2 ---\")\n",
    "    pass\n",
    "\n",
    "\n",
    "builder = StateGraph(State)\n",
    "builder.add_node(\"node_1\",node_1)\n",
    "builder.add_node(\"human_feedback\", human_feedback)\n",
    "builder.add_node(\"node_2\", node_2)\n",
    "\n",
    "builder.add_edge(START, \"node_1\")\n",
    "builder.add_edge(\"node_1\", \"human_feedback\")\n",
    "builder.add_edge(\"human_feedback\", \"node_2\")\n",
    "builder.add_edge(\"node_2\", END)\n",
    "  \n",
    "memory = MemorySaver()\n",
    "\n",
    "graph = builder.compile(checkpointer=memory)\n",
    "\n",
    "# graph = builder.compile()\n",
    "display(Image(graph.get_graph().draw_mermaid_png()))\n"
   ]
  },
  {
   "cell_type": "code",
   "execution_count": 11,
   "metadata": {},
   "outputs": [
    {
     "name": "stdout",
     "output_type": "stream",
     "text": [
      "--- Node 1 ---\n",
      "--- Human Feedback ---\n"
     ]
    },
    {
     "data": {
      "text/plain": [
       "{'input': 'Hi!'}"
      ]
     },
     "execution_count": 11,
     "metadata": {},
     "output_type": "execute_result"
    }
   ],
   "source": [
    "thread = {\"configurable\": {\"thread_id\": \"2\"}}\n",
    "graph.invoke({\"input\":\"Hi!\"},config=thread)\n"
   ]
  },
  {
   "cell_type": "code",
   "execution_count": 16,
   "metadata": {},
   "outputs": [
    {
     "name": "stdout",
     "output_type": "stream",
     "text": [
      "--- Node 1 ---\n",
      "{'node_1': None}\n",
      "--- Human Feedback ---\n",
      "{'__interrupt__': (Interrupt(value='Please Provide Feedback', resumable=True, ns=['human_feedback:7b55a70e-6711-2ed0-89ac-c89581bf13cd'], when='during'),)}\n"
     ]
    }
   ],
   "source": [
    "result = graph.stream({\"input\":\"Hi!\"},thread,stream_mode='updates')\n",
    "\n",
    "for i in result:\n",
    "    print(i)"
   ]
  },
  {
   "cell_type": "code",
   "execution_count": 8,
   "metadata": {},
   "outputs": [
    {
     "name": "stdout",
     "output_type": "stream",
     "text": [
      "--- Node 1 ---\n",
      "{'node_1': None}\n",
      "--- Human Feedback ---\n",
      "{'__interrupt__': (Interrupt(value='Please Provide Feedback', resumable=True, ns=['human_feedback:5d0f2272-f55e-5739-6a70-951a5f0c2030'], when='during'),)}\n"
     ]
    }
   ],
   "source": [
    "result = graph.astream({\"input\":\"Hi!\"},thread)\n",
    "\n",
    "async for i in result:\n",
    "    print(i)"
   ]
  },
  {
   "cell_type": "code",
   "execution_count": 17,
   "metadata": {},
   "outputs": [
    {
     "name": "stdout",
     "output_type": "stream",
     "text": [
      "--- Human Feedback ---\n",
      "{'human_feedback': {'user_feedback': 'Requesting to Start'}}\n",
      "--- Node 2 ---\n",
      "{'node_2': None}\n"
     ]
    }
   ],
   "source": [
    "thread = {\"configurable\": {\"thread_id\": \"2\"}}\n",
    "\n",
    "for event in graph.stream (Command(resume='Requesting to Start'),thread,stream_mode='updates'):\n",
    "    print(event)"
   ]
  },
  {
   "cell_type": "code",
   "execution_count": 38,
   "metadata": {},
   "outputs": [
    {
     "data": {
      "image/png": "[encoded data removed]",
      "text/plain": [
       "<IPython.core.display.Image object>"
      ]
     },
     "metadata": {},
     "output_type": "display_data"
    }
   ],
   "source": [
    "from typing_extensions import Literal\n",
    "\n",
    "class State(TypedDict):\n",
    "    input:str\n",
    "    \n",
    "\n",
    "def human_approval(state:State)->Command[Literal['call_agent','__end__']]:\n",
    "    print(\"--- Human Approval ---\")\n",
    "    is_approved = interrupt(\"Is this correct ?\")\n",
    "    \n",
    "    print(\"\\n\\n[RESUME AFTER INTERRUPT:]\\n\\n\", is_approved)\n",
    "\n",
    "    if is_approved == 'yes':\n",
    "       return Command(goto='call_agent')\n",
    "    else:\n",
    "        return Command(goto='__end__')\n",
    "\n",
    "def call_agent(state:State):\n",
    "    print(\"--- Call Agent ---\")\n",
    "    pass\n",
    "\n",
    "builder : StateGraph = StateGraph(State)\n",
    "\n",
    "builder.add_node(\"human_approval\",human_approval)\n",
    "builder.add_node(\"call_agent\", call_agent)\n",
    "\n",
    "builder.add_edge(START, \"human_approval\")\n",
    "\n",
    "\n",
    "graph:CompiledStateGraph = builder.compile(checkpointer=memory)\n",
    "\n",
    "display(Image(graph.get_graph().draw_mermaid_png()))   "
   ]
  },
  {
   "cell_type": "code",
   "execution_count": 52,
   "metadata": {},
   "outputs": [
    {
     "name": "stdout",
     "output_type": "stream",
     "text": [
      "--- Human Approval ---\n",
      "{'__interrupt__': (Interrupt(value='Is this correct ?', resumable=True, ns=['human_approval:4d5eb712-49db-f274-78db-659044d54a9d'], when='during'),)}\n"
     ]
    }
   ],
   "source": [
    "for event in graph.stream({\"input\":\"Hi!\"},thread,stream_mode='updates'):\n",
    "    print (event)"
   ]
  },
  {
   "cell_type": "code",
   "execution_count": 51,
   "metadata": {},
   "outputs": [
    {
     "name": "stdout",
     "output_type": "stream",
     "text": [
      "--- Human Approval ---\n",
      "\n",
      "\n",
      "[RESUME AFTER INTERRUPT:]\n",
      "\n",
      " {'': ''}\n",
      "{'human_approval': None}\n"
     ]
    }
   ],
   "source": [
    "for event in graph.stream(Command(resume={\"\":\"\"}),thread,stream_mode='updates'):\n",
    "    print (event)"
   ]
  },
  {
   "cell_type": "code",
   "execution_count": 45,
   "metadata": {},
   "outputs": [],
   "source": [
    "for event in graph.stream(Command(resume='yes'),thread,stream_mode='updates'):\n",
    "    print (event)"
   ]
  },
  {
   "cell_type": "code",
   "execution_count": null,
   "metadata": {},
   "outputs": [],
   "source": []
  }
 ],
 "metadata": {
  "kernelspec": {
   "display_name": "streamlit",
   "language": "python",
   "name": "python3"
  },
  "language_info": {
   "codemirror_mode": {
    "name": "ipython",
    "version": 3
   },
   "file_extension": ".py",
   "mimetype": "text/x-python",
   "name": "python",
   "nbconvert_exporter": "python",
   "pygments_lexer": "ipython3",
   "version": "3.11.10"
  }
 },
 "nbformat": 4,
 "nbformat_minor": 2
}

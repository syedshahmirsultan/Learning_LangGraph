{
 "cells": [
  {
   "cell_type": "code",
   "execution_count": 23,
   "metadata": {},
   "outputs": [],
   "source": [
    "! pip install -qU langgraph"
   ]
  },
  {
   "cell_type": "code",
   "execution_count": 28,
   "metadata": {},
   "outputs": [
    {
     "data": {
      "image/png": "[encoded data removed]",
      "text/plain": [
       "<IPython.core.display.Image object>"
      ]
     },
     "metadata": {},
     "output_type": "display_data"
    }
   ],
   "source": [
    "import random\n",
    "from typing import Optional\n",
    "from langgraph.graph import START, END, StateGraph\n",
    "from langgraph.graph.state import CompiledStateGraph\n",
    "from IPython.display import display,Image\n",
    "from typing_extensions import Literal,TypedDict\n",
    "from langgraph.types import Command\n",
    "from langchain_core.messages import AIMessage\n",
    "from langgraph.graph.message import add_messages\n",
    "\n",
    "class State(TypedDict):\n",
    "    address:str\n",
    "    user_data:Optional[dict]\n",
    "    \n",
    "\n",
    "def node_1(state:State)-> Command[Literal[\"search_nearby_homes\", \"answer_question\"]]:\n",
    "    print (\"--- Node 1 ---\")\n",
    "    value = random.choice([\"search_nearby_homes\", \"answer_question\"])\n",
    "    \n",
    "    if value == \"search_nearby_homes\":\n",
    "        goto='search_nearby_homes'\n",
    "    else:\n",
    "        goto='answer_question'  \n",
    "    return Command(goto=goto)\n",
    "\n",
    "def search_nearby_homes(state:State):\n",
    "    print (\"--- search_nearby_homes ---\")\n",
    "    pass\n",
    "def answer_question(state:State):\n",
    "    print (\"--- Answer Questions ---\")\n",
    "    pass\n",
    "\n",
    "builder:StateGraph = StateGraph(State)\n",
    "\n",
    "builder.add_edge(START,\"node_1\")\n",
    "builder.add_node(\"node_1\",node_1)\n",
    "builder.add_node(search_nearby_homes)\n",
    "builder.add_node(answer_question)\n",
    "\n",
    "\n",
    "\n",
    "\n",
    "graph:CompiledStateGraph = builder.compile()\n",
    "display(Image(graph.get_graph().draw_mermaid_png()))\n"
   ]
  },
  {
   "cell_type": "code",
   "execution_count": 9,
   "metadata": {},
   "outputs": [
    {
     "name": "stdout",
     "output_type": "stream",
     "text": [
      "--- Node 1 ---\n",
      "--- Answer Questions ---\n"
     ]
    },
    {
     "data": {
      "text/plain": [
       "{'address': 'Karachi'}"
      ]
     },
     "execution_count": 9,
     "metadata": {},
     "output_type": "execute_result"
    }
   ],
   "source": [
    "graph.invoke({\"address\":\"Karachi\"})"
   ]
  },
  {
   "cell_type": "code",
   "execution_count": 34,
   "metadata": {},
   "outputs": [
    {
     "data": {
      "image/png": "[encoded data removed]",
      "text/plain": [
       "<IPython.core.display.Image object>"
      ]
     },
     "metadata": {},
     "output_type": "display_data"
    }
   ],
   "source": [
    "def node_1(state:State)-> Command[Literal[\"search_nearby_homes\", \"answer_question\"]]:\n",
    "    print (\"--- Node 1 ---\")\n",
    "    value = random.choice([\"search_nearby_homes\", \"answer_question\"])\n",
    "    fetched_userData = {\"name\":\"Ali\"}\n",
    "    \n",
    "    if value == \"search_nearby_homes\":\n",
    "        goto='search_nearby_homes'\n",
    "    else:\n",
    "        goto='answer_question'  \n",
    "        \n",
    "    return Command(update={\"user_data\":fetched_userData},goto=goto)\n",
    "\n",
    "def search_nearby_homes(state:State):\n",
    "    print (\"--- search_nearby_homes ---\")\n",
    "    pass\n",
    "def answer_question(state:State):\n",
    "    print (\"--- Answer Questions ---\")\n",
    "    pass\n",
    "\n",
    "builder:StateGraph = StateGraph(State)\n",
    "\n",
    "builder.add_edge(START,\"node_1\")\n",
    "builder.add_node(\"node_1\",node_1)\n",
    "builder.add_node(search_nearby_homes)\n",
    "builder.add_node(answer_question)\n",
    "\n",
    "\n",
    "\n",
    "\n",
    "graph:CompiledStateGraph = builder.compile()\n",
    "display(Image(graph.get_graph().draw_mermaid_png()))"
   ]
  },
  {
   "cell_type": "code",
   "execution_count": 33,
   "metadata": {},
   "outputs": [
    {
     "name": "stdout",
     "output_type": "stream",
     "text": [
      "Called A\n",
      "Called search_nearby_homes!\n",
      "UserInfo {'name': 'Ammen Alam'}\n",
      "Called answer_question\n",
      "UserInfo {'name': 'Ammen Alam'}\n"
     ]
    },
    {
     "data": {
      "text/plain": [
       "{'address': 'Lahore',\n",
       " 'nearby_homes': [{'home_1': 'Zia House'}, {'home_2': 'Qasim House'}],\n",
       " 'messages': [AIMessage(content='Hi, Ammen Alam Welcome to Homes AI Search Engine', additional_kwargs={}, response_metadata={}, id='20860e5d-05f7-468e-9b44-da51d3b3dbaa')],\n",
       " 'user_data': {'name': 'Ammen Alam'}}"
      ]
     },
     "execution_count": 33,
     "metadata": {},
     "output_type": "execute_result"
    }
   ],
   "source": [
    "graph.invoke({\"address\":\"Lahore\"})"
   ]
  },
  {
   "cell_type": "markdown",
   "metadata": {},
   "source": [
    "### Run Nodes(Agents) in Parallel"
   ]
  },
  {
   "cell_type": "code",
   "execution_count": 32,
   "metadata": {},
   "outputs": [
    {
     "name": "stdout",
     "output_type": "stream",
     "text": [
      "Called A\n",
      "Called search_nearby_homes!\n",
      "UserInfo {'name': 'Ammen Alam'}\n",
      "Called answer_question\n",
      "UserInfo {'name': 'Ammen Alam'}\n"
     ]
    }
   ],
   "source": [
    "# Define graph state\n",
    "from typing import Annotated\n",
    "\n",
    "class State(TypedDict):\n",
    "    address: str # address where user wants to search homes for.\n",
    "    nearby_homes: Optional[list[dict]] # list of nearby homes\n",
    "    messages: Annotated[list, add_messages]\n",
    "    user_data: Optional[dict] # user data - for registered users we already have this\n",
    "     \n",
    "\n",
    "# Define the nodes (agents)\n",
    "\n",
    "def node_a(state: State) -> Command[Literal[\"search_nearby_homes\", \"answer_question\"]]:\n",
    "    print(\"Called A\")\n",
    "\n",
    "    # Get User Data From Memory or Data Store\n",
    "    fetched_user_data = {\"name\": \"Ammen Alam\"}\n",
    "\n",
    "    # note how Command allows you to BOTH update the graph state AND route to the next node\n",
    "    return Command(\n",
    "        update={\"user_data\": fetched_user_data},\n",
    "        # this is a replacement for an edge\n",
    "        goto=[\"search_nearby_homes\", \"answer_question\"],\n",
    "    )\n",
    "\n",
    "\n",
    "# Nodes search_nearby_homes and answer_question are unchanged (just like before)\n",
    "def search_nearby_homes(state: State):\n",
    "    print(\"Called search_nearby_homes!\")\n",
    "    print(\"UserInfo\", state[\"user_data\"])\n",
    "    return {\"nearby_homes\": [{\"home_1\": \"Zia House\"}, {\"home_2\": \"Qasim House\"}]}\n",
    "\n",
    "\n",
    "def answer_question(state: State):\n",
    "    print(\"Called answer_question\")\n",
    "    print(\"UserInfo\", state[\"user_data\"])\n",
    "    user_name = state[\"user_data\"].get(\"name\", \"Guest\")\n",
    "    return {\"messages\": [AIMessage(content=f\"Hi, {user_name} Welcome to Homes AI Search Engine\")]}\n",
    "     \n",
    "\n",
    "builder = StateGraph(State)\n",
    "builder.add_edge(START, \"node_a\")\n",
    "builder.add_node(node_a)\n",
    "builder.add_node(search_nearby_homes)\n",
    "builder.add_node(answer_question)\n",
    "# NOTE: there are no edges between nodes A, B and C!\n",
    "\n",
    "graph = builder.compile()\n",
    "     \n",
    "\n",
    "agent_response = graph.invoke({\"address\": \"Karachi\"})"
   ]
  }
 ],
 "metadata": {
  "kernelspec": {
   "display_name": "streamlit",
   "language": "python",
   "name": "python3"
  },
  "language_info": {
   "codemirror_mode": {
    "name": "ipython",
    "version": 3
   },
   "file_extension": ".py",
   "mimetype": "text/x-python",
   "name": "python",
   "nbconvert_exporter": "python",
   "pygments_lexer": "ipython3",
   "version": "3.11.10"
  }
 },
 "nbformat": 4,
 "nbformat_minor": 2
}

{
 "cells": [
  {
   "cell_type": "code",
   "execution_count": 2,
   "metadata": {},
   "outputs": [],
   "source": [
    "! pip install -q -U langgraph langchain_core langchain-google-genai"
   ]
  },
  {
   "cell_type": "code",
   "execution_count": 8,
   "metadata": {},
   "outputs": [
    {
     "name": "stdout",
     "output_type": "stream",
     "text": [
      "================================\u001b[1m Human Message \u001b[0m=================================\n",
      "Name: Shahmir\n",
      "\n",
      "Hi!\n",
      "==================================\u001b[1m Ai Message \u001b[0m==================================\n",
      "Name: Model\n",
      "\n",
      "Hey! How can I help you !\n",
      "================================\u001b[1m Human Message \u001b[0m=================================\n",
      "Name: Shahmir\n",
      "\n",
      "Tell me the name of the capital of Pakistan ?\n",
      "==================================\u001b[1m Ai Message \u001b[0m==================================\n",
      "Name: Model\n",
      "\n",
      "The capital of Pakistan is Islamabad !\n"
     ]
    }
   ],
   "source": [
    "from langchain_core.messages import HumanMessage,AIMessage,SystemMessage\n",
    "\n",
    "messages = [HumanMessage(content=\"Hi!\",name=\"Shahmir\")]\n",
    "messages.append(AIMessage(content=\"Hey! How can I help you !\",name=\"Model\"))\n",
    "messages.append(HumanMessage(content=\"Tell me the name of the capital of Pakistan ?\", name=\"Shahmir\"))\n",
    "messages.append(AIMessage(content=\"The capital of Pakistan is Islamabad !\",name=\"Model\"))\n",
    "\n",
    "for m in messages:\n",
    "    m.pretty_print()"
   ]
  },
  {
   "cell_type": "code",
   "execution_count": 6,
   "metadata": {},
   "outputs": [
    {
     "data": {
      "text/plain": [
       "AIMessage(content='Hi there! How can I help you today? \\n', additional_kwargs={}, response_metadata={'prompt_feedback': {'block_reason': 0, 'safety_ratings': []}, 'finish_reason': 'STOP', 'safety_ratings': [{'category': 'HARM_CATEGORY_SEXUALLY_EXPLICIT', 'probability': 'NEGLIGIBLE', 'blocked': False}, {'category': 'HARM_CATEGORY_HATE_SPEECH', 'probability': 'NEGLIGIBLE', 'blocked': False}, {'category': 'HARM_CATEGORY_HARASSMENT', 'probability': 'NEGLIGIBLE', 'blocked': False}, {'category': 'HARM_CATEGORY_DANGEROUS_CONTENT', 'probability': 'NEGLIGIBLE', 'blocked': False}]}, id='run-1aa056ad-d9d3-4e50-8bb6-e5faa9eca31c-0', usage_metadata={'input_tokens': 3, 'output_tokens': 11, 'total_tokens': 14})"
      ]
     },
     "execution_count": 6,
     "metadata": {},
     "output_type": "execute_result"
    }
   ],
   "source": [
    "from langchain_google_genai import ChatGoogleGenerativeAI\n",
    "import os\n",
    "from dotenv import load_dotenv\n",
    "\n",
    "load_dotenv()\n",
    "\n",
    "api_key = os.getenv(\"GEMINI_API_KEY\")\n",
    "\n",
    "llm : ChatGoogleGenerativeAI = ChatGoogleGenerativeAI(model=\"gemini-1.5-flash\", api_key=api_key)\n",
    "\n",
    "llm.invoke(\"Hi!\")\n"
   ]
  },
  {
   "cell_type": "code",
   "execution_count": 7,
   "metadata": {},
   "outputs": [
    {
     "name": "stdout",
     "output_type": "stream",
     "text": [
      "content=\"I don't have a name. I am a large language model, and I am not a person. I am a computer program that can generate text, translate languages, write different kinds of creative content, and answer your questions in an informative way. \\n\\nIs there anything else I can help you with today? \\n\" additional_kwargs={} response_metadata={'prompt_feedback': {'block_reason': 0, 'safety_ratings': []}, 'finish_reason': 'STOP', 'safety_ratings': [{'category': 'HARM_CATEGORY_SEXUALLY_EXPLICIT', 'probability': 'NEGLIGIBLE', 'blocked': False}, {'category': 'HARM_CATEGORY_HATE_SPEECH', 'probability': 'NEGLIGIBLE', 'blocked': False}, {'category': 'HARM_CATEGORY_HARASSMENT', 'probability': 'NEGLIGIBLE', 'blocked': False}, {'category': 'HARM_CATEGORY_DANGEROUS_CONTENT', 'probability': 'NEGLIGIBLE', 'blocked': False}]} id='run-b7cd8a1a-334f-4c86-bb9c-670fa4cc9ce7-0' usage_metadata={'input_tokens': 5, 'output_tokens': 64, 'total_tokens': 69}\n"
     ]
    }
   ],
   "source": [
    "result = llm.invoke(\"What is your name\")\n",
    "print(result)"
   ]
  },
  {
   "cell_type": "code",
   "execution_count": 10,
   "metadata": {},
   "outputs": [
    {
     "data": {
      "text/plain": [
       "AIMessage(content='Hi there! My name is Bob. 😊  How can I help you today? \\n', additional_kwargs={}, response_metadata={'prompt_feedback': {'block_reason': 0, 'safety_ratings': []}, 'finish_reason': 'STOP', 'safety_ratings': [{'category': 'HARM_CATEGORY_SEXUALLY_EXPLICIT', 'probability': 'NEGLIGIBLE', 'blocked': False}, {'category': 'HARM_CATEGORY_HATE_SPEECH', 'probability': 'NEGLIGIBLE', 'blocked': False}, {'category': 'HARM_CATEGORY_HARASSMENT', 'probability': 'NEGLIGIBLE', 'blocked': False}, {'category': 'HARM_CATEGORY_DANGEROUS_CONTENT', 'probability': 'NEGLIGIBLE', 'blocked': False}]}, id='run-d1b9a575-50e6-46b5-86c6-75473930ea00-0', usage_metadata={'input_tokens': 15, 'output_tokens': 17, 'total_tokens': 32})"
      ]
     },
     "execution_count": 10,
     "metadata": {},
     "output_type": "execute_result"
    }
   ],
   "source": [
    "systems_human_message = [\n",
    "    SystemMessage(content=\"You are a helper and your name is Bob\"),\n",
    "    HumanMessage(content=\"What is your name ?\")\n",
    "]\n",
    "\n",
    "llm.invoke(systems_human_message)"
   ]
  },
  {
   "cell_type": "markdown",
   "metadata": {},
   "source": [
    "## Tools"
   ]
  },
  {
   "cell_type": "code",
   "execution_count": 11,
   "metadata": {},
   "outputs": [],
   "source": [
    "def deposit_money(name:str,bank_no:int):\n",
    "    \"\"\"\n",
    "    Deposit Money in the bank account\n",
    "    \n",
    "    Args:\n",
    "    name: first str\n",
    "    bank_no: second int \n",
    "    \"\"\"\n",
    "    return {\"Status\": \"Sccessfully deposit money in the account\"}"
   ]
  },
  {
   "cell_type": "code",
   "execution_count": 12,
   "metadata": {},
   "outputs": [
    {
     "data": {
      "text/plain": [
       "AIMessage(content='I understand you want to deposit money into Ahmed\\'s account, but I am just a language model. I can\\'t directly interact with real-world systems like bank accounts. \\n\\nTo deposit money into Ahmed\\'s account, you\\'ll need to:\\n\\n* **Know the specific bank and branch:**  Is it a local bank, an online bank, or a specific branch? \\n* **Have the correct account type:** Is it a checking account, savings account, or something else?\\n* **Have access to a deposit method:** This could be online banking, a mobile app, a physical bank branch, or an ATM.\\n\\n**Here are some ways to deposit money into an account:**\\n\\n* **Online Banking:**  Log in to your online banking account, find the \"transfer\" or \"deposit\" option, and enter Ahmed\\'s account information.\\n* **Mobile App:** Use your bank\\'s mobile app to initiate a transfer or deposit.\\n* **Physical Bank Branch:** Visit a branch of the bank where Ahmed\\'s account is held and deposit cash or a check.\\n* **ATM:**  Some ATMs allow you to deposit cash or checks into another account.\\n\\n**Please provide me with more information about Ahmed\\'s account, and I might be able to give you more specific instructions.** \\n', additional_kwargs={}, response_metadata={'prompt_feedback': {'block_reason': 0, 'safety_ratings': []}, 'finish_reason': 'STOP', 'safety_ratings': [{'category': 'HARM_CATEGORY_SEXUALLY_EXPLICIT', 'probability': 'NEGLIGIBLE', 'blocked': False}, {'category': 'HARM_CATEGORY_HATE_SPEECH', 'probability': 'NEGLIGIBLE', 'blocked': False}, {'category': 'HARM_CATEGORY_HARASSMENT', 'probability': 'NEGLIGIBLE', 'blocked': False}, {'category': 'HARM_CATEGORY_DANGEROUS_CONTENT', 'probability': 'NEGLIGIBLE', 'blocked': False}]}, id='run-3c626889-1940-4692-a5e6-ca2247bf696a-0', usage_metadata={'input_tokens': 19, 'output_tokens': 270, 'total_tokens': 289})"
      ]
     },
     "execution_count": 12,
     "metadata": {},
     "output_type": "execute_result"
    }
   ],
   "source": [
    "content = [HumanMessage(content=\"Deposit money in Ahmeds account .His account number is 817663\")]\n",
    "llm.invoke(content)"
   ]
  },
  {
   "cell_type": "code",
   "execution_count": 20,
   "metadata": {},
   "outputs": [
    {
     "name": "stderr",
     "output_type": "stream",
     "text": [
      "Key 'title' is not supported in schema, ignoring\n",
      "Key 'title' is not supported in schema, ignoring\n",
      "Key 'title' is not supported in schema, ignoring\n"
     ]
    },
    {
     "name": "stdout",
     "output_type": "stream",
     "text": [
      "{'name': 'deposit_money', 'description': 'Deposit Money in the bank account\\n\\nArgs:\\nname: first str\\nbank_no: second int', 'parameters': {'type_': 6, 'description': 'Deposit Money in the bank account\\n\\nArgs:\\nname: first str\\nbank_no: second int ', 'properties': {'bank_no': {'type_': 3, 'format_': '', 'description': '', 'nullable': False, 'enum': [], 'max_items': '0', 'min_items': '0', 'properties': {}, 'required': []}, 'name': {'type_': 1, 'format_': '', 'description': '', 'nullable': False, 'enum': [], 'max_items': '0', 'min_items': '0', 'properties': {}, 'required': []}}, 'required': ['name', 'bank_no'], 'format_': '', 'nullable': False, 'enum': [], 'max_items': '0', 'min_items': '0'}}\n",
      "==================================\u001b[1m Ai Message \u001b[0m==================================\n",
      "Tool Calls:\n",
      "  deposit_money (d881b15d-bc92-45d0-8464-92e05dd1ae59)\n",
      " Call ID: d881b15d-bc92-45d0-8464-92e05dd1ae59\n",
      "  Args:\n",
      "    bank_no: 817663.0\n",
      "    name: Ahmed\n"
     ]
    }
   ],
   "source": [
    "tools = [deposit_money]\n",
    "\n",
    "llm_with_tool = llm.bind_tools(tools)\n",
    "\n",
    "llm_with_tool.invoke(content).pretty_print()\n"
   ]
  },
  {
   "cell_type": "code",
   "execution_count": 31,
   "metadata": {},
   "outputs": [
    {
     "data": {
      "image/jpeg": "[encoded data removed]",
      "text/plain": [
       "<IPython.core.display.Image object>"
      ]
     },
     "metadata": {},
     "output_type": "display_data"
    }
   ],
   "source": [
    "from typing_extensions import TypedDict\n",
    "from langgraph.graph.state import START,END,CompiledStateGraph,StateGraph\n",
    "from IPython.display import display,Image\n",
    "\n",
    "class LlmWithToolState(TypedDict):\n",
    "    messages: list\n",
    "\n",
    "\n",
    "def llm_call(state:LlmWithToolState):\n",
    "    messages = state['messages']\n",
    "    call_response = llm_with_tool.invoke(messages)\n",
    "    \n",
    "    return {\"messages\":[call_response]}\n",
    "\n",
    "workflow : StateGraph = StateGraph(LlmWithToolState)\n",
    "\n",
    "workflow.add_node(\"llm_call\",llm_call)\n",
    "\n",
    "workflow.add_edge(START,\"llm_call\")\n",
    "workflow.add_edge(\"llm_call\",END)\n",
    "\n",
    "graph:CompiledStateGraph = workflow.compile()\n",
    "\n",
    "display(Image(graph.get_graph().draw_mermaid_png()))"
   ]
  },
  {
   "cell_type": "code",
   "execution_count": 32,
   "metadata": {},
   "outputs": [
    {
     "name": "stdout",
     "output_type": "stream",
     "text": [
      "{'name': 'deposit_money', 'description': 'Deposit Money in the bank account\\n\\nArgs:\\nname: first str\\nbank_no: second int', 'parameters': {'type_': 6, 'description': 'Deposit Money in the bank account\\n\\nArgs:\\nname: first str\\nbank_no: second int ', 'properties': {'bank_no': {'type_': 3, 'format_': '', 'description': '', 'nullable': False, 'enum': [], 'max_items': '0', 'min_items': '0', 'properties': {}, 'required': []}, 'name': {'type_': 1, 'format_': '', 'description': '', 'nullable': False, 'enum': [], 'max_items': '0', 'min_items': '0', 'properties': {}, 'required': []}}, 'required': ['name', 'bank_no'], 'format_': '', 'nullable': False, 'enum': [], 'max_items': '0', 'min_items': '0'}}\n"
     ]
    },
    {
     "data": {
      "text/plain": [
       "{'messages': [AIMessage(content=\"I am an AI language model, so I don't have feelings. But I am here to assist you. How can I help you today? \\n\", additional_kwargs={}, response_metadata={'prompt_feedback': {'block_reason': 0, 'safety_ratings': []}, 'finish_reason': 'STOP', 'safety_ratings': [{'category': 'HARM_CATEGORY_SEXUALLY_EXPLICIT', 'probability': 'NEGLIGIBLE', 'blocked': False}, {'category': 'HARM_CATEGORY_HATE_SPEECH', 'probability': 'NEGLIGIBLE', 'blocked': False}, {'category': 'HARM_CATEGORY_HARASSMENT', 'probability': 'NEGLIGIBLE', 'blocked': False}, {'category': 'HARM_CATEGORY_DANGEROUS_CONTENT', 'probability': 'NEGLIGIBLE', 'blocked': False}]}, id='run-4181e017-2125-42dc-9e9f-521a5f0b52eb-0', usage_metadata={'input_tokens': 75, 'output_tokens': 30, 'total_tokens': 105})]}"
      ]
     },
     "execution_count": 32,
     "metadata": {},
     "output_type": "execute_result"
    }
   ],
   "source": [
    "graph.invoke({\"messages\" : [HumanMessage(content=\"Hello How are you doing !\")]})"
   ]
  }
 ],
 "metadata": {
  "kernelspec": {
   "display_name": "streamlit",
   "language": "python",
   "name": "python3"
  },
  "language_info": {
   "codemirror_mode": {
    "name": "ipython",
    "version": 3
   },
   "file_extension": ".py",
   "mimetype": "text/x-python",
   "name": "python",
   "nbconvert_exporter": "python",
   "pygments_lexer": "ipython3",
   "version": "3.11.10"
  }
 },
 "nbformat": 4,
 "nbformat_minor": 2
}

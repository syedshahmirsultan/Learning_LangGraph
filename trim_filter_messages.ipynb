{
 "cells": [
  {
   "cell_type": "code",
   "execution_count": 1,
   "metadata": {},
   "outputs": [],
   "source": [
    "! pip install -q -U langgraph langchain_core langchain-google-genai"
   ]
  },
  {
   "cell_type": "code",
   "execution_count": 8,
   "metadata": {},
   "outputs": [],
   "source": [
    "from langchain_google_genai import ChatGoogleGenerativeAI\n",
    "from langchain_core.messages import RemoveMessage,trim_messages,HumanMessage,AIMessage\n",
    "from langgraph.graph.state import CompiledStateGraph\n",
    "from langgraph.graph import START,END,StateGraph,MessagesState\n",
    "from IPython.display import Image,display\n",
    "from dotenv import load_dotenv\n",
    "import os\n",
    "\n",
    "\n",
    "load_dotenv()\n",
    "\n",
    "google_api= os.getenv('GEMINI_API_KEY')\n",
    "\n",
    "\n",
    "llm:ChatGoogleGenerativeAI = ChatGoogleGenerativeAI(model='gemini-1.5-flash',api_key=google_api)\n",
    "\n",
    "\n"
   ]
  },
  {
   "cell_type": "code",
   "execution_count": 7,
   "metadata": {},
   "outputs": [
    {
     "name": "stdout",
     "output_type": "stream",
     "text": [
      "==================================\u001b[1m Ai Message \u001b[0m==================================\n",
      "Name: Bot\n",
      "\n",
      "So you said you were researching ocean mammals?\n",
      "================================\u001b[1m Human Message \u001b[0m=================================\n",
      "Name: Lance\n",
      "\n",
      "Yes, I know about whales. But what others should I learn about?\n"
     ]
    }
   ],
   "source": [
    "messages = [AIMessage('So you said you were researching ocean mammals?',name='Bot')]\n",
    "messages.append(HumanMessage('Yes, I know about whales. But what others should I learn about?',name='Lance'))\n",
    "\n",
    "for n in messages:\n",
    "    n.pretty_print()"
   ]
  },
  {
   "cell_type": "code",
   "execution_count": 9,
   "metadata": {},
   "outputs": [
    {
     "data": {
      "image/png": "[encoded data removed]",
      "text/plain": [
       "<IPython.core.display.Image object>"
      ]
     },
     "metadata": {},
     "output_type": "display_data"
    }
   ],
   "source": [
    "def chat_model(state:MessagesState):\n",
    "    return {\"messages\":llm.invoke(state['messages'])}\n",
    "\n",
    "builder: StateGraph = StateGraph(MessagesState)\n",
    "builder.add_node(\"chat_model\", chat_model)\n",
    "builder.add_edge(START, \"chat_model\")\n",
    "builder.add_edge(\"chat_model\", END)\n",
    "graph: CompiledStateGraph = builder.compile()\n",
    "\n",
    "# View\n",
    "display(Image(graph.get_graph().draw_mermaid_png()))"
   ]
  },
  {
   "cell_type": "code",
   "execution_count": 12,
   "metadata": {},
   "outputs": [
    {
     "name": "stdout",
     "output_type": "stream",
     "text": [
      "{'messages': [AIMessage(content='So you said you were researching ocean mammals?', additional_kwargs={}, response_metadata={}, name='Bot', id='754e2276-8e0c-4deb-b4b4-6e9fafa5302c'), HumanMessage(content='Yes, I know about whales. But what others should I learn about?', additional_kwargs={}, response_metadata={}, name='Lance', id='08f52b15-0987-450c-ac45-491cbd919bfb'), AIMessage(content=\"That's great you're interested in ocean mammals! Whales are a fascinating group, but there's a whole underwater world beyond them.  To suggest other groups to learn about, it helps to know what aspects of whales interest you.  For example, do you like their:\\n\\n* **Size and behavior?**  Then you might enjoy learning about other large marine mammals like walruses and elephant seals.  Their social structures and adaptations to extreme environments are captivating.\\n\\n* **Intelligence and social complexity?**  Dolphins (including orcas, which are technically dolphins!) are renowned for their intelligence and complex social interactions.  Pilot whales are another fascinating example.\\n\\n* **Adaptations to different environments?**  Consider exploring seals and sea lions (pinnipeds).  They demonstrate incredible adaptations to both land and water, with different species specializing in different habitats (e.g., ice floes, rocky coasts).  Sea otters, with their unique use of tools, are also fascinating.\\n\\n* **Feeding strategies?**  Manatees and dugongs (sirenians) are herbivores, offering a contrast to the carnivorous or filter-feeding habits of many other marine mammals.\\n\\n* **Conservation status?**  Many marine mammals are endangered or threatened.  Researching the challenges faced by these animals and conservation efforts can be both informative and inspiring.\\n\\n\\nTo give you a more focused list, tell me:\\n\\n* **What specifically about whales interests you?** (e.g., their songs, migration patterns, hunting techniques)\\n* **What aspects of marine biology are you most curious about?** (e.g., behavior, ecology, evolution, conservation)\\n\\nOnce I have a better understanding of your interests, I can provide a more tailored list of ocean mammals to research.\\n\", additional_kwargs={}, response_metadata={'prompt_feedback': {'block_reason': 0, 'safety_ratings': []}, 'finish_reason': 'STOP', 'safety_ratings': []}, id='run-8294aa58-6d97-4eaa-aef6-99eafaf34ba3-0', usage_metadata={'input_tokens': 26, 'output_tokens': 370, 'total_tokens': 396, 'input_token_details': {'cache_read': 0}})]}\n"
     ]
    }
   ],
   "source": [
    "result = graph.invoke({'messages':messages})\n",
    "for n in result['messages']:\n",
    "    n.pretty_print()"
   ]
  }
 ],
 "metadata": {
  "kernelspec": {
   "display_name": "streamlit",
   "language": "python",
   "name": "python3"
  },
  "language_info": {
   "codemirror_mode": {
    "name": "ipython",
    "version": 3
   },
   "file_extension": ".py",
   "mimetype": "text/x-python",
   "name": "python",
   "nbconvert_exporter": "python",
   "pygments_lexer": "ipython3",
   "version": "3.11.10"
  }
 },
 "nbformat": 4,
 "nbformat_minor": 2
}

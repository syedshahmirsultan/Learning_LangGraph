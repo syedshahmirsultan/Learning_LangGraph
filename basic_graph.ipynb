{
 "cells": [
  {
   "cell_type": "code",
   "execution_count": null,
   "metadata": {},
   "outputs": [],
   "source": [
    "! pip install langchain-google-genai langchain_core langgraph"
   ]
  },
  {
   "cell_type": "code",
   "execution_count": 24,
   "metadata": {},
   "outputs": [],
   "source": [
    "from langchain_google_genai import ChatGoogleGenerativeAI\n",
    "from langgraph.graph import StateGraph,START,END,MessagesState\n",
    "from langgraph.graph.state import CompiledStateGraph\n",
    "from dotenv import load_dotenv\n",
    "import os\n",
    "from typing_extensions import TypedDict\n",
    "\n",
    "#Loading Environment Variables\n",
    "load_dotenv()\n",
    "\n",
    "#Storing api key in a variable\n",
    "api_key = os.getenv(\"GEMINI_API_KEY\")\n",
    "\n",
    "llm : ChatGoogleGenerativeAI = ChatGoogleGenerativeAI(model=\"gemini-1.5-flash\",api_key=api_key)"
   ]
  },
  {
   "cell_type": "code",
   "execution_count": 52,
   "metadata": {},
   "outputs": [],
   "source": [
    "class State(TypedDict):\n",
    "    graph_state:str\n",
    "\n",
    "builder:StateGraph = StateGraph(State)\n",
    "\n",
    "\n",
    "def node1(state):\n",
    "    print(\"---- Node1 ----\")\n",
    "    return {\"graph_state\":state['graph_state'] +\" I am\"}\n",
    "\n",
    "def node2(state):\n",
    "    print(\"---- Node2 ----\")\n",
    "    return {\"graph_state\":state['graph_state']+ \" happy !\"}\n",
    "\n",
    "def node3(state):\n",
    "    print(\"---- Node3 ----\")\n",
    "    return {\"graph_state\":state['graph_state'] + \" but I am not feeling good !\"}\n",
    "\n",
    "\n",
    "builder.add_node(\"node1\",node1)\n",
    "builder.add_node(\"node2\",node2)\n",
    "builder.add_node(\"node3\",node3)\n",
    "\n",
    "builder.add_edge(START,\"node1\")\n",
    "builder.add_edge(\"node1\",\"node2\")\n",
    "builder.add_edge(\"node2\",\"node3\")\n",
    "builder.add_edge(\"node3\",END)\n",
    "\n",
    "graph : CompiledStateGraph = builder.compile()"
   ]
  },
  {
   "cell_type": "code",
   "execution_count": 54,
   "metadata": {},
   "outputs": [
    {
     "name": "stdout",
     "output_type": "stream",
     "text": [
      "---- Node1 ----\n",
      "---- Node2 ----\n",
      "---- Node3 ----\n"
     ]
    },
    {
     "data": {
      "text/plain": [
       "{'graph_state': 'Hi! This is Shahmir I am happy ! but I am not feeling good !'}"
      ]
     },
     "execution_count": 54,
     "metadata": {},
     "output_type": "execute_result"
    }
   ],
   "source": [
    "graph.invoke({\"graph_state\":\"Hi! This is Shahmir\"})\n"
   ]
  },
  {
   "cell_type": "code",
   "execution_count": 18,
   "metadata": {},
   "outputs": [
    {
     "data": {
      "image/jpeg": "[encoded data removed]",
      "text/plain": [
       "<IPython.core.display.Image object>"
      ]
     },
     "metadata": {},
     "output_type": "display_data"
    }
   ],
   "source": [
    "from IPython.display import display,Image\n",
    "\n",
    "display(Image(graph.get_graph().draw_mermaid_png()))\n"
   ]
  }
 ],
 "metadata": {
  "kernelspec": {
   "display_name": "streamlit",
   "language": "python",
   "name": "python3"
  },
  "language_info": {
   "codemirror_mode": {
    "name": "ipython",
    "version": 3
   },
   "file_extension": ".py",
   "mimetype": "text/x-python",
   "name": "python",
   "nbconvert_exporter": "python",
   "pygments_lexer": "ipython3",
   "version": "3.11.10"
  }
 },
 "nbformat": 4,
 "nbformat_minor": 2
}

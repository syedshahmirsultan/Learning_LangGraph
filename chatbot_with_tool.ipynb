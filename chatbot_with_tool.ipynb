{
 "cells": [
  {
   "cell_type": "code",
   "execution_count": 1,
   "metadata": {},
   "outputs": [],
   "source": [
    "! pip install -q -U langchain_core langgraph langchain-google-genai tavily-python langchain-community"
   ]
  },
  {
   "cell_type": "code",
   "execution_count": 6,
   "metadata": {},
   "outputs": [
    {
     "data": {
      "text/plain": [
       "True"
      ]
     },
     "execution_count": 6,
     "metadata": {},
     "output_type": "execute_result"
    }
   ],
   "source": [
    "from langchain_community.tools.tavily_search import TavilySearchResults\n",
    "from langchain_google_genai import ChatGoogleGenerativeAI\n",
    "from langgraph.graph.state import START,END,StateGraph,CompiledStateGraph\n",
    "from dotenv import load_dotenv\n",
    "import os\n",
    "from IPython.display import display,Image\n",
    "from typing import Annotated\n",
    "from langgraph.graph.message import add_messages\n",
    "from typing_extensions import TypedDict\n",
    "from langgraph.prebuilt import ToolNode,tools_condition\n",
    "\n",
    "load_dotenv()\n",
    "\n"
   ]
  },
  {
   "cell_type": "code",
   "execution_count": 4,
   "metadata": {},
   "outputs": [],
   "source": [
    "google_api_key = os.getenv(\"GEMINI_API_KEY\")\n",
    "llm : ChatGoogleGenerativeAI = ChatGoogleGenerativeAI(model=\"gemini-1.5-flash\",api_key=google_api_key)\n",
    "tool = TavilySearchResults(max_results=2)"
   ]
  },
  {
   "cell_type": "code",
   "execution_count": 21,
   "metadata": {},
   "outputs": [
    {
     "data": {
      "image/png": "[encoded data removed]",
      "text/plain": [
       "<IPython.core.display.Image object>"
      ]
     },
     "metadata": {},
     "output_type": "display_data"
    }
   ],
   "source": [
    "llm_with_tools = llm.bind_tools([tool])\n",
    "\n",
    "class State(TypedDict):\n",
    "    messages: Annotated[list,add_messages]    \n",
    "\n",
    "workflow:StateGraph = StateGraph(State)\n",
    "\n",
    "def chatbot(state:State):\n",
    "    return {\"messages\" : [llm_with_tools.invoke(state[\"messages\"])]}\n",
    "\n",
    "workflow.add_node(\"chatbot\",chatbot)\n",
    "workflow.add_node(\"tools\",ToolNode(tools=[tool]))\n",
    "\n",
    "workflow.add_edge(START,\"chatbot\")\n",
    "workflow.add_conditional_edges(\"chatbot\",tools_condition)\n",
    "\n",
    "workflow.add_edge(\"tools\",\"chatbot\")\n",
    "graph : CompiledStateGraph = workflow.compile()\n",
    "\n",
    "display(Image(graph.get_graph().draw_mermaid_png()))\n"
   ]
  },
  {
   "cell_type": "code",
   "execution_count": 34,
   "metadata": {},
   "outputs": [
    {
     "name": "stdout",
     "output_type": "stream",
     "text": [
      "================================\u001b[1m Human Message \u001b[0m=================================\n",
      "\n",
      "What is google\n",
      "==================================\u001b[1m Ai Message \u001b[0m==================================\n",
      "Tool Calls:\n",
      "  tavily_search_results_json (349da03a-d04f-4c0e-b32c-bf622b271cac)\n",
      " Call ID: 349da03a-d04f-4c0e-b32c-bf622b271cac\n",
      "  Args:\n",
      "    query: What is google\n",
      "=================================\u001b[1m Tool Message \u001b[0m=================================\n",
      "Name: tavily_search_results_json\n",
      "\n",
      "[{\"url\": \"https://about.google/\", \"content\": \"Google is a company that organizes the world's information and makes it accessible and useful. Learn about its products, AI, commitments, career certificates, doodles and company news.\"}, {\"url\": \"https://www.techopedia.com/definition/5359/google\", \"content\": \"Google is an internet search engine that uses a proprietary algorithm to retrieve and order relevant and dependable sources of data. Learn about Google's history, mission, products, and challenges from Techopedia's experts.\"}]\n",
      "==================================\u001b[1m Ai Message \u001b[0m==================================\n",
      "\n",
      "Google is a company that organizes the world's information and makes it accessible and useful. You can learn more about its products, AI, commitments, career certificates, doodles and company news on their website. Google is also an internet search engine that uses a proprietary algorithm to retrieve and order relevant and dependable sources of data. You can learn about Google's history, mission, products, and challenges from Techopedia's experts.\n"
     ]
    }
   ],
   "source": [
    "content = \"What is google\"\n",
    "events = graph.stream({\"messages\"  : [(\"user\",content)]},stream_mode=\"values\")\n",
    "for event in events:\n",
    "    if \"messages\" in event:\n",
    "       event[\"messages\"][-1].pretty_print() \n",
    "    "
   ]
  },
  {
   "cell_type": "markdown",
   "metadata": {},
   "source": [
    "## Adding Memory in the chatbot"
   ]
  },
  {
   "cell_type": "code",
   "execution_count": 47,
   "metadata": {},
   "outputs": [],
   "source": [
    "from langchain_community.tools.tavily_search import TavilySearchResults\n",
    "from langchain_google_genai import ChatGoogleGenerativeAI\n",
    "from langgraph.graph.state import START,END,StateGraph,CompiledStateGraph\n",
    "from langchain_core.messages import HumanMessage,AIMessage\n",
    "from dotenv import load_dotenv\n",
    "import os\n",
    "from IPython.display import display,Image\n",
    "from typing import Annotated\n",
    "from langgraph.graph.message import add_messages\n",
    "from typing_extensions import TypedDict\n",
    "from langgraph.prebuilt import ToolNode,tools_condition\n",
    "from langgraph.checkpoint.memory import MemorySaver # This line is different\n",
    "\n",
    "load_dotenv()\n",
    "\n",
    "memory = MemorySaver()"
   ]
  },
  {
   "cell_type": "code",
   "execution_count": 36,
   "metadata": {},
   "outputs": [],
   "source": [
    "google_api_key = os.getenv(\"GEMINI_API_KEY\")\n",
    "llm : ChatGoogleGenerativeAI = ChatGoogleGenerativeAI(model=\"gemini-1.5-flash\",api_key=google_api_key)\n",
    "tool = TavilySearchResults(max_results=2)"
   ]
  },
  {
   "cell_type": "code",
   "execution_count": 37,
   "metadata": {},
   "outputs": [
    {
     "data": {
      "image/png": "[encoded data removed]",
      "text/plain": [
       "<IPython.core.display.Image object>"
      ]
     },
     "metadata": {},
     "output_type": "display_data"
    }
   ],
   "source": [
    "llm_with_tools = llm.bind_tools([tool])\n",
    "\n",
    "class State(TypedDict):\n",
    "    messages: Annotated[list,add_messages]    \n",
    "\n",
    "workflow:StateGraph = StateGraph(State)\n",
    "\n",
    "def chatbot(state:State):\n",
    "    return {\"messages\" : [llm_with_tools.invoke(state[\"messages\"])]}\n",
    "\n",
    "workflow.add_node(\"chatbot\",chatbot)\n",
    "workflow.add_node(\"tools\",ToolNode(tools=[tool]))\n",
    "\n",
    "workflow.add_edge(START,\"chatbot\")\n",
    "workflow.add_conditional_edges(\"chatbot\",tools_condition)\n",
    "\n",
    "workflow.add_edge(\"tools\",\"chatbot\")\n",
    "graph : CompiledStateGraph = workflow.compile(checkpointer=memory) # This line is different\n",
    "\n",
    "display(Image(graph.get_graph().draw_mermaid_png()))\n"
   ]
  },
  {
   "cell_type": "code",
   "execution_count": 48,
   "metadata": {},
   "outputs": [
    {
     "name": "stdout",
     "output_type": "stream",
     "text": [
      "================================\u001b[1m Human Message \u001b[0m=================================\n",
      "\n",
      "Hi! there my name is Shahmir\n",
      "==================================\u001b[1m Ai Message \u001b[0m==================================\n",
      "\n",
      "Hi Shahmir, nice to meet you! 👋  What can I do for you today? 😊\n"
     ]
    }
   ],
   "source": [
    "config = {\"configurable\" : {\"thread_id\" : \"1\"}}\n",
    "content = \"Hi! there my name is Shahmir\"\n",
    "\n",
    "events = graph.stream({\"messages\" :[(\"user\",content)]},config,stream_mode='values')\n",
    "\n",
    "for event in events :\n",
    " event['messages'][-1].pretty_print()"
   ]
  },
  {
   "cell_type": "code",
   "execution_count": 49,
   "metadata": {},
   "outputs": [
    {
     "name": "stdout",
     "output_type": "stream",
     "text": [
      "================================\u001b[1m Human Message \u001b[0m=================================\n",
      "\n",
      "What is my name ?\n",
      "==================================\u001b[1m Ai Message \u001b[0m==================================\n",
      "\n",
      "Your name is Shahmir! 😊  I remember that from our first interaction. 😄\n"
     ]
    }
   ],
   "source": [
    "config = {\"configurable\" : {\"thread_id\" : \"1\"}}\n",
    "content = \"What is my name ?\"\n",
    "\n",
    "events = graph.stream({\"messages\" :[(\"user\",content)]},config,stream_mode='values')\n",
    "\n",
    "for event in events :\n",
    " event['messages'][-1].pretty_print()"
   ]
  },
  {
   "cell_type": "code",
   "execution_count": 51,
   "metadata": {},
   "outputs": [
    {
     "name": "stdout",
     "output_type": "stream",
     "text": [
      "================================\u001b[1m Human Message \u001b[0m=================================\n",
      "\n",
      "What is my name ?\n",
      "==================================\u001b[1m Ai Message \u001b[0m==================================\n",
      "\n",
      "I do not have access to personal information like your name.\n"
     ]
    }
   ],
   "source": [
    "config = {\"configurable\" : {\"thread_id\" : \"2\"}} # Changed thread_id\n",
    "content = \"What is my name ?\"\n",
    "\n",
    "events = graph.stream({\"messages\" :[(\"user\",content)]},config,stream_mode='values')\n",
    "\n",
    "for event in events :\n",
    " event['messages'][-1].pretty_print()"
   ]
  },
  {
   "cell_type": "code",
   "execution_count": 52,
   "metadata": {},
   "outputs": [
    {
     "name": "stdout",
     "output_type": "stream",
     "text": [
      "================================\u001b[1m Human Message \u001b[0m=================================\n",
      "\n",
      "What is my name ?\n",
      "==================================\u001b[1m Ai Message \u001b[0m==================================\n",
      "\n",
      "Your name is Shahmir!  I remember you told me that earlier. 😊  Is there anything else I can help you with?\n"
     ]
    }
   ],
   "source": [
    "config = {\"configurable\" : {\"thread_id\" : \"1\"}} # Again I changed my thread_id to 1\n",
    "content = \"What is my name ?\"\n",
    "\n",
    "events = graph.stream({\"messages\" :[(\"user\",content)]},config,stream_mode='values')\n",
    "\n",
    "for event in events :\n",
    " event['messages'][-1].pretty_print()"
   ]
  },
  {
   "cell_type": "markdown",
   "metadata": {},
   "source": [
    "## Adding Human In The Loop"
   ]
  },
  {
   "cell_type": "code",
   "execution_count": 53,
   "metadata": {},
   "outputs": [
    {
     "data": {
      "image/png": "[encoded data removed]",
      "text/plain": [
       "<IPython.core.display.Image object>"
      ]
     },
     "metadata": {},
     "output_type": "display_data"
    }
   ],
   "source": [
    "# Everything is same as done above before this step\n",
    "\n",
    "graph : CompiledStateGraph = workflow.compile(checkpointer=memory, interrupt_before=[\"tools\"]) # This line is different\n",
    "\n",
    "display(Image(graph.get_graph().draw_mermaid_png()))"
   ]
  },
  {
   "cell_type": "code",
   "execution_count": 68,
   "metadata": {},
   "outputs": [
    {
     "name": "stdout",
     "output_type": "stream",
     "text": [
      "================================\u001b[1m Human Message \u001b[0m=================================\n",
      "\n",
      "How is the weather today in Islamabad ?\n",
      "==================================\u001b[1m Ai Message \u001b[0m==================================\n",
      "Tool Calls:\n",
      "  tavily_search_results_json (d5c1faef-e0d1-4f23-aea6-45b08328f812)\n",
      " Call ID: d5c1faef-e0d1-4f23-aea6-45b08328f812\n",
      "  Args:\n",
      "    query: weather in Islamabad today\n"
     ]
    }
   ],
   "source": [
    "config = {\"configurable\" : {\"thread_id\" : \"3\"}}\n",
    "content = \"How is the weather today in Islamabad ?\"\n",
    "\n",
    "events = graph.stream({\"messages\" :[(\"user\",content)]},config,stream_mode='values')\n",
    "\n",
    "for event in events :\n",
    " event['messages'][-1].pretty_print()"
   ]
  },
  {
   "cell_type": "code",
   "execution_count": null,
   "metadata": {},
   "outputs": [
    {
     "data": {
      "text/plain": [
       "AIMessage(content='', additional_kwargs={'function_call': {'name': 'tavily_search_results_json', 'arguments': '{\"query\": \"weather in Islamabad today\"}'}}, response_metadata={'prompt_feedback': {'block_reason': 0, 'safety_ratings': []}, 'finish_reason': 'STOP', 'safety_ratings': [{'category': 'HARM_CATEGORY_SEXUALLY_EXPLICIT', 'probability': 'NEGLIGIBLE', 'blocked': False}, {'category': 'HARM_CATEGORY_DANGEROUS_CONTENT', 'probability': 'NEGLIGIBLE', 'blocked': False}, {'category': 'HARM_CATEGORY_HARASSMENT', 'probability': 'NEGLIGIBLE', 'blocked': False}, {'category': 'HARM_CATEGORY_HATE_SPEECH', 'probability': 'NEGLIGIBLE', 'blocked': False}]}, id='run-9ddb3e94-504d-48f6-889f-cb22d5fcd1fc-0', tool_calls=[{'name': 'tavily_search_results_json', 'args': {'query': 'weather in Islamabad today'}, 'id': 'd5c1faef-e0d1-4f23-aea6-45b08328f812', 'type': 'tool_call'}], usage_metadata={'input_tokens': 148, 'output_tokens': 23, 'total_tokens': 171, 'input_token_details': {'cache_read': 0}})"
      ]
     },
     "execution_count": 71,
     "metadata": {},
     "output_type": "execute_result"
    }
   ],
   "source": [
    "snapshot = graph.get_state(config)\n",
    "existing_message =snapshot.values[\"messages\"][-1]\n",
    "existing_message.tool_calls\n"
   ]
  }
 ],
 "metadata": {
  "kernelspec": {
   "display_name": "streamlit",
   "language": "python",
   "name": "python3"
  },
  "language_info": {
   "codemirror_mode": {
    "name": "ipython",
    "version": 3
   },
   "file_extension": ".py",
   "mimetype": "text/x-python",
   "name": "python",
   "nbconvert_exporter": "python",
   "pygments_lexer": "ipython3",
   "version": "3.11.10"
  }
 },
 "nbformat": 4,
 "nbformat_minor": 2
}

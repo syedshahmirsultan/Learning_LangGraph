{
 "cells": [
  {
   "cell_type": "code",
   "execution_count": 1,
   "metadata": {},
   "outputs": [],
   "source": [
    "! pip install -q -U langgraph langchain_core langchain-google-genai"
   ]
  },
  {
   "cell_type": "code",
   "execution_count": 8,
   "metadata": {},
   "outputs": [],
   "source": [
    "from langchain_google_genai import ChatGoogleGenerativeAI\n",
    "from langchain_core.messages import RemoveMessage,trim_messages,HumanMessage,AIMessage\n",
    "from langgraph.graph.state import CompiledStateGraph\n",
    "from langgraph.graph import START,END,StateGraph,MessagesState\n",
    "from IPython.display import Image,display\n",
    "from dotenv import load_dotenv\n",
    "import os\n",
    "\n",
    "\n",
    "load_dotenv()\n",
    "\n",
    "google_api= os.getenv('GEMINI_API_KEY')\n",
    "\n",
    "\n",
    "llm:ChatGoogleGenerativeAI = ChatGoogleGenerativeAI(model='gemini-1.5-flash',api_key=google_api)\n",
    "\n",
    "\n"
   ]
  },
  {
   "cell_type": "code",
   "execution_count": 7,
   "metadata": {},
   "outputs": [
    {
     "name": "stdout",
     "output_type": "stream",
     "text": [
      "==================================\u001b[1m Ai Message \u001b[0m==================================\n",
      "Name: Bot\n",
      "\n",
      "So you said you were researching ocean mammals?\n",
      "================================\u001b[1m Human Message \u001b[0m=================================\n",
      "Name: Lance\n",
      "\n",
      "Yes, I know about whales. But what others should I learn about?\n"
     ]
    }
   ],
   "source": [
    "messages = [AIMessage('So you said you were researching ocean mammals?',name='Bot')]\n",
    "messages.append(HumanMessage('Yes, I know about whales. But what others should I learn about?',name='Lance'))\n",
    "\n",
    "for n in messages:\n",
    "    n.pretty_print()"
   ]
  },
  {
   "cell_type": "code",
   "execution_count": 9,
   "metadata": {},
   "outputs": [
    {
     "data": {
      "image/png": "[encoded data removed]",
      "text/plain": [
       "<IPython.core.display.Image object>"
      ]
     },
     "metadata": {},
     "output_type": "display_data"
    }
   ],
   "source": [
    "def chat_model(state:MessagesState):\n",
    "    return {\"messages\":llm.invoke(state['messages'])}\n",
    "\n",
    "builder: StateGraph = StateGraph(MessagesState)\n",
    "builder.add_node(\"chat_model\", chat_model)\n",
    "builder.add_edge(START, \"chat_model\")\n",
    "builder.add_edge(\"chat_model\", END)\n",
    "graph: CompiledStateGraph = builder.compile()\n",
    "\n",
    "# View\n",
    "display(Image(graph.get_graph().draw_mermaid_png()))"
   ]
  },
  {
   "cell_type": "code",
   "execution_count": 13,
   "metadata": {},
   "outputs": [
    {
     "name": "stdout",
     "output_type": "stream",
     "text": [
      "==================================\u001b[1m Ai Message \u001b[0m==================================\n",
      "Name: Bot\n",
      "\n",
      "So you said you were researching ocean mammals?\n",
      "================================\u001b[1m Human Message \u001b[0m=================================\n",
      "Name: Lance\n",
      "\n",
      "Yes, I know about whales. But what others should I learn about?\n",
      "==================================\u001b[1m Ai Message \u001b[0m==================================\n",
      "\n",
      "Besides whales, there's a fascinating world of other ocean mammals to explore!  Here are some groups and examples, categorized for easier learning:\n",
      "\n",
      "**1. Seals, Sea Lions, and Walruses (Pinnipeds):**\n",
      "\n",
      "* **Seals (Phocidae):**  Lack external ear flaps, have streamlined bodies for swimming, and tend to be more awkward on land.  Examples include harbor seals, harp seals, leopard seals, and elephant seals.  Learn about their different hunting strategies and adaptations for cold climates.\n",
      "* **Sea Lions (Otariidae):** Possess external ear flaps, have more prominent foreflippers used for propulsion, and are generally more agile on land. Examples include California sea lions, Steller sea lions, and fur seals.  Explore their social structures and breeding behaviors.\n",
      "* **Walruses (Odobenidae):**  Easily recognizable by their tusks, they are adapted to Arctic environments.  Learn about their feeding habits (using their tusks and whiskers), social dynamics, and the challenges they face from climate change.\n",
      "\n",
      "**2. Sea Otters (Mustelidae):**\n",
      "\n",
      "* These are the smallest marine mammals and are found in the North Pacific.  They are known for their dense fur, use of tools (rocks to crack open shellfish), and complex social behaviors.  Research their ecological role and the threats they face.\n",
      "\n",
      "**3. Manatees and Dugongs (Sirenia):**\n",
      "\n",
      "* These gentle giants are herbivores and live in warmer waters.  Manatees are found in the Americas, while dugongs are found in the Indo-Pacific.  Learn about their slow metabolisms, feeding habits (sea grass), and the dangers they face from boat strikes and habitat loss.\n",
      "\n",
      "**4. Polar Bears (Ursidae):**\n",
      "\n",
      "* While not strictly ocean mammals, they are highly dependent on the Arctic marine environment for hunting seals and other prey.  Research their hunting strategies, adaptations to cold, and the impacts of climate change on their survival.\n",
      "\n",
      "\n",
      "When researching, consider these aspects:\n",
      "\n",
      "* **Distribution and Habitat:** Where do they live? What are their preferred environments?\n",
      "* **Physical Adaptations:** How are their bodies suited to their lifestyle (e.g., blubber for insulation, flippers for swimming)?\n",
      "* **Feeding Habits:** What do they eat? How do they hunt?\n",
      "* **Social Behavior:** Do they live alone, in pairs, or in groups? How do they communicate?\n",
      "* **Conservation Status:** What threats do they face? What conservation efforts are underway?\n",
      "\n",
      "By focusing on these aspects for each group, you'll gain a comprehensive understanding of the diversity of ocean mammals beyond whales.  Happy researching!\n"
     ]
    }
   ],
   "source": [
    "result = graph.invoke({'messages':messages})\n",
    "for n in result['messages']:\n",
    "    n.pretty_print()"
   ]
  },
  {
   "cell_type": "code",
   "execution_count": 21,
   "metadata": {},
   "outputs": [
    {
     "name": "stdout",
     "output_type": "stream",
     "text": [
      "{'event': 'on_chain_start', 'data': {'input': {'messages': [AIMessage(content='So you said you were researching ocean mammals?', additional_kwargs={}, response_metadata={}, name='Bot', id='754e2276-8e0c-4deb-b4b4-6e9fafa5302c'), HumanMessage(content='Yes, I know about whales. But what others should I learn about?', additional_kwargs={}, response_metadata={}, name='Lance', id='08f52b15-0987-450c-ac45-491cbd919bfb')]}}, 'name': 'LangGraph', 'tags': [], 'run_id': '893176b4-c223-43bf-bb43-b79141749740', 'metadata': {}, 'parent_ids': []}\n",
      "\n",
      "--------------\n",
      "\n",
      "{'event': 'on_chain_start', 'data': {'input': {'messages': [AIMessage(content='So you said you were researching ocean mammals?', additional_kwargs={}, response_metadata={}, name='Bot', id='754e2276-8e0c-4deb-b4b4-6e9fafa5302c'), HumanMessage(content='Yes, I know about whales. But what others should I learn about?', additional_kwargs={}, response_metadata={}, name='Lance', id='08f52b15-0987-450c-ac45-491cbd919bfb')]}}, 'name': '__start__', 'tags': ['graph:step:0', 'langsmith:hidden'], 'run_id': '76bf9e20-a976-4e03-afae-d7003ca831b8', 'metadata': {'langgraph_step': 0, 'langgraph_node': '__start__', 'langgraph_triggers': ['__start__'], 'langgraph_path': ('__pregel_pull', '__start__'), 'langgraph_checkpoint_ns': '__start__:e63d6266-fdd1-663d-0862-5107bb65f57e'}, 'parent_ids': ['893176b4-c223-43bf-bb43-b79141749740']}\n",
      "\n",
      "--------------\n",
      "\n",
      "{'event': 'on_chain_start', 'data': {'input': {'messages': [AIMessage(content='So you said you were researching ocean mammals?', additional_kwargs={}, response_metadata={}, name='Bot', id='754e2276-8e0c-4deb-b4b4-6e9fafa5302c'), HumanMessage(content='Yes, I know about whales. But what others should I learn about?', additional_kwargs={}, response_metadata={}, name='Lance', id='08f52b15-0987-450c-ac45-491cbd919bfb')]}}, 'name': '_write', 'tags': ['seq:step:1', 'langsmith:hidden', 'langsmith:hidden'], 'run_id': '74ee8df5-84a7-4390-8980-4c41724f6632', 'metadata': {'langgraph_step': 0, 'langgraph_node': '__start__', 'langgraph_triggers': ['__start__'], 'langgraph_path': ('__pregel_pull', '__start__'), 'langgraph_checkpoint_ns': '__start__:e63d6266-fdd1-663d-0862-5107bb65f57e'}, 'parent_ids': ['893176b4-c223-43bf-bb43-b79141749740', '76bf9e20-a976-4e03-afae-d7003ca831b8']}\n",
      "\n",
      "--------------\n",
      "\n",
      "{'event': 'on_chain_end', 'data': {'output': {'messages': [AIMessage(content='So you said you were researching ocean mammals?', additional_kwargs={}, response_metadata={}, name='Bot', id='754e2276-8e0c-4deb-b4b4-6e9fafa5302c'), HumanMessage(content='Yes, I know about whales. But what others should I learn about?', additional_kwargs={}, response_metadata={}, name='Lance', id='08f52b15-0987-450c-ac45-491cbd919bfb')]}, 'input': {'messages': [AIMessage(content='So you said you were researching ocean mammals?', additional_kwargs={}, response_metadata={}, name='Bot', id='754e2276-8e0c-4deb-b4b4-6e9fafa5302c'), HumanMessage(content='Yes, I know about whales. But what others should I learn about?', additional_kwargs={}, response_metadata={}, name='Lance', id='08f52b15-0987-450c-ac45-491cbd919bfb')]}}, 'run_id': '74ee8df5-84a7-4390-8980-4c41724f6632', 'name': '_write', 'tags': ['seq:step:1', 'langsmith:hidden', 'langsmith:hidden'], 'metadata': {'langgraph_step': 0, 'langgraph_node': '__start__', 'langgraph_triggers': ['__start__'], 'langgraph_path': ('__pregel_pull', '__start__'), 'langgraph_checkpoint_ns': '__start__:e63d6266-fdd1-663d-0862-5107bb65f57e'}, 'parent_ids': ['893176b4-c223-43bf-bb43-b79141749740', '76bf9e20-a976-4e03-afae-d7003ca831b8']}\n",
      "\n",
      "--------------\n",
      "\n",
      "{'event': 'on_chain_start', 'data': {'input': {'messages': [AIMessage(content='So you said you were researching ocean mammals?', additional_kwargs={}, response_metadata={}, name='Bot', id='754e2276-8e0c-4deb-b4b4-6e9fafa5302c'), HumanMessage(content='Yes, I know about whales. But what others should I learn about?', additional_kwargs={}, response_metadata={}, name='Lance', id='08f52b15-0987-450c-ac45-491cbd919bfb')]}}, 'name': '_write', 'tags': ['seq:step:3', 'langsmith:hidden', 'langsmith:hidden'], 'run_id': '8cf03460-cad5-437f-bb0d-e6ab48ea09d3', 'metadata': {'langgraph_step': 0, 'langgraph_node': '__start__', 'langgraph_triggers': ['__start__'], 'langgraph_path': ('__pregel_pull', '__start__'), 'langgraph_checkpoint_ns': '__start__:e63d6266-fdd1-663d-0862-5107bb65f57e'}, 'parent_ids': ['893176b4-c223-43bf-bb43-b79141749740', '76bf9e20-a976-4e03-afae-d7003ca831b8']}\n",
      "\n",
      "--------------\n",
      "\n",
      "{'event': 'on_chain_end', 'data': {'output': {'messages': [AIMessage(content='So you said you were researching ocean mammals?', additional_kwargs={}, response_metadata={}, name='Bot', id='754e2276-8e0c-4deb-b4b4-6e9fafa5302c'), HumanMessage(content='Yes, I know about whales. But what others should I learn about?', additional_kwargs={}, response_metadata={}, name='Lance', id='08f52b15-0987-450c-ac45-491cbd919bfb')]}, 'input': {'messages': [AIMessage(content='So you said you were researching ocean mammals?', additional_kwargs={}, response_metadata={}, name='Bot', id='754e2276-8e0c-4deb-b4b4-6e9fafa5302c'), HumanMessage(content='Yes, I know about whales. But what others should I learn about?', additional_kwargs={}, response_metadata={}, name='Lance', id='08f52b15-0987-450c-ac45-491cbd919bfb')]}}, 'run_id': '8cf03460-cad5-437f-bb0d-e6ab48ea09d3', 'name': '_write', 'tags': ['seq:step:3', 'langsmith:hidden', 'langsmith:hidden'], 'metadata': {'langgraph_step': 0, 'langgraph_node': '__start__', 'langgraph_triggers': ['__start__'], 'langgraph_path': ('__pregel_pull', '__start__'), 'langgraph_checkpoint_ns': '__start__:e63d6266-fdd1-663d-0862-5107bb65f57e'}, 'parent_ids': ['893176b4-c223-43bf-bb43-b79141749740', '76bf9e20-a976-4e03-afae-d7003ca831b8']}\n",
      "\n",
      "--------------\n",
      "\n",
      "{'event': 'on_chain_stream', 'run_id': '76bf9e20-a976-4e03-afae-d7003ca831b8', 'name': '__start__', 'tags': ['graph:step:0', 'langsmith:hidden'], 'metadata': {'langgraph_step': 0, 'langgraph_node': '__start__', 'langgraph_triggers': ['__start__'], 'langgraph_path': ('__pregel_pull', '__start__'), 'langgraph_checkpoint_ns': '__start__:e63d6266-fdd1-663d-0862-5107bb65f57e'}, 'data': {'chunk': {'messages': [AIMessage(content='So you said you were researching ocean mammals?', additional_kwargs={}, response_metadata={}, name='Bot', id='754e2276-8e0c-4deb-b4b4-6e9fafa5302c'), HumanMessage(content='Yes, I know about whales. But what others should I learn about?', additional_kwargs={}, response_metadata={}, name='Lance', id='08f52b15-0987-450c-ac45-491cbd919bfb')]}}, 'parent_ids': ['893176b4-c223-43bf-bb43-b79141749740']}\n",
      "\n",
      "--------------\n",
      "\n",
      "{'event': 'on_chain_end', 'data': {'output': {'messages': [AIMessage(content='So you said you were researching ocean mammals?', additional_kwargs={}, response_metadata={}, name='Bot', id='754e2276-8e0c-4deb-b4b4-6e9fafa5302c'), HumanMessage(content='Yes, I know about whales. But what others should I learn about?', additional_kwargs={}, response_metadata={}, name='Lance', id='08f52b15-0987-450c-ac45-491cbd919bfb')]}, 'input': {'messages': [AIMessage(content='So you said you were researching ocean mammals?', additional_kwargs={}, response_metadata={}, name='Bot', id='754e2276-8e0c-4deb-b4b4-6e9fafa5302c'), HumanMessage(content='Yes, I know about whales. But what others should I learn about?', additional_kwargs={}, response_metadata={}, name='Lance', id='08f52b15-0987-450c-ac45-491cbd919bfb')]}}, 'run_id': '76bf9e20-a976-4e03-afae-d7003ca831b8', 'name': '__start__', 'tags': ['graph:step:0', 'langsmith:hidden'], 'metadata': {'langgraph_step': 0, 'langgraph_node': '__start__', 'langgraph_triggers': ['__start__'], 'langgraph_path': ('__pregel_pull', '__start__'), 'langgraph_checkpoint_ns': '__start__:e63d6266-fdd1-663d-0862-5107bb65f57e'}, 'parent_ids': ['893176b4-c223-43bf-bb43-b79141749740']}\n",
      "\n",
      "--------------\n",
      "\n",
      "{'event': 'on_chain_start', 'data': {'input': {'messages': [AIMessage(content='So you said you were researching ocean mammals?', additional_kwargs={}, response_metadata={}, name='Bot', id='754e2276-8e0c-4deb-b4b4-6e9fafa5302c'), HumanMessage(content='Yes, I know about whales. But what others should I learn about?', additional_kwargs={}, response_metadata={}, name='Lance', id='08f52b15-0987-450c-ac45-491cbd919bfb')]}}, 'name': 'chat_model', 'tags': ['graph:step:1'], 'run_id': '1ff9b237-5ce1-40b5-aded-52ab42f44699', 'metadata': {'langgraph_step': 1, 'langgraph_node': 'chat_model', 'langgraph_triggers': ['start:chat_model'], 'langgraph_path': ('__pregel_pull', 'chat_model'), 'langgraph_checkpoint_ns': 'chat_model:7a348f3d-79f4-d705-10b6-08f90c3247aa'}, 'parent_ids': ['893176b4-c223-43bf-bb43-b79141749740']}\n",
      "\n",
      "--------------\n",
      "\n",
      "{'event': 'on_chat_model_start', 'data': {'input': {'messages': [[AIMessage(content='So you said you were researching ocean mammals?', additional_kwargs={}, response_metadata={}, name='Bot', id='754e2276-8e0c-4deb-b4b4-6e9fafa5302c'), HumanMessage(content='Yes, I know about whales. But what others should I learn about?', additional_kwargs={}, response_metadata={}, name='Lance', id='08f52b15-0987-450c-ac45-491cbd919bfb')]]}}, 'name': 'ChatGoogleGenerativeAI', 'tags': ['seq:step:1'], 'run_id': 'f439872f-df49-485a-92ec-3895e96ba861', 'metadata': {'langgraph_step': 1, 'langgraph_node': 'chat_model', 'langgraph_triggers': ['start:chat_model'], 'langgraph_path': ('__pregel_pull', 'chat_model'), 'langgraph_checkpoint_ns': 'chat_model:7a348f3d-79f4-d705-10b6-08f90c3247aa', 'checkpoint_ns': 'chat_model:7a348f3d-79f4-d705-10b6-08f90c3247aa', 'ls_provider': 'google_genai', 'ls_model_name': 'models/gemini-1.5-flash', 'ls_model_type': 'chat', 'ls_temperature': 0.7}, 'parent_ids': ['893176b4-c223-43bf-bb43-b79141749740', '1ff9b237-5ce1-40b5-aded-52ab42f44699']}\n",
      "\n",
      "--------------\n",
      "\n",
      "{'event': 'on_chat_model_stream', 'data': {'chunk': AIMessageChunk(content='That', additional_kwargs={}, response_metadata={'safety_ratings': []}, id='run-f439872f-df49-485a-92ec-3895e96ba861', usage_metadata={'input_tokens': 26, 'output_tokens': 0, 'total_tokens': 26, 'input_token_details': {'cache_read': 0}})}, 'run_id': 'f439872f-df49-485a-92ec-3895e96ba861', 'name': 'ChatGoogleGenerativeAI', 'tags': ['seq:step:1'], 'metadata': {'langgraph_step': 1, 'langgraph_node': 'chat_model', 'langgraph_triggers': ['start:chat_model'], 'langgraph_path': ('__pregel_pull', 'chat_model'), 'langgraph_checkpoint_ns': 'chat_model:7a348f3d-79f4-d705-10b6-08f90c3247aa', 'checkpoint_ns': 'chat_model:7a348f3d-79f4-d705-10b6-08f90c3247aa', 'ls_provider': 'google_genai', 'ls_model_name': 'models/gemini-1.5-flash', 'ls_model_type': 'chat', 'ls_temperature': 0.7}, 'parent_ids': ['893176b4-c223-43bf-bb43-b79141749740', '1ff9b237-5ce1-40b5-aded-52ab42f44699']}\n",
      "\n",
      "--------------\n",
      "\n",
      "{'event': 'on_chat_model_stream', 'data': {'chunk': AIMessageChunk(content=\"'s great you're familiar with whales!  Beyond whales, the world\", additional_kwargs={}, response_metadata={'safety_ratings': []}, id='run-f439872f-df49-485a-92ec-3895e96ba861', usage_metadata={'input_tokens': 0, 'output_tokens': 0, 'total_tokens': 0, 'input_token_details': {'cache_read': 0}})}, 'run_id': 'f439872f-df49-485a-92ec-3895e96ba861', 'name': 'ChatGoogleGenerativeAI', 'tags': ['seq:step:1'], 'metadata': {'langgraph_step': 1, 'langgraph_node': 'chat_model', 'langgraph_triggers': ['start:chat_model'], 'langgraph_path': ('__pregel_pull', 'chat_model'), 'langgraph_checkpoint_ns': 'chat_model:7a348f3d-79f4-d705-10b6-08f90c3247aa', 'checkpoint_ns': 'chat_model:7a348f3d-79f4-d705-10b6-08f90c3247aa', 'ls_provider': 'google_genai', 'ls_model_name': 'models/gemini-1.5-flash', 'ls_model_type': 'chat', 'ls_temperature': 0.7}, 'parent_ids': ['893176b4-c223-43bf-bb43-b79141749740', '1ff9b237-5ce1-40b5-aded-52ab42f44699']}\n",
      "\n",
      "--------------\n",
      "\n",
      "{'event': 'on_chat_model_stream', 'data': {'chunk': AIMessageChunk(content=\" of ocean mammals is incredibly diverse.  To suggest further research, let's\", additional_kwargs={}, response_metadata={'safety_ratings': []}, id='run-f439872f-df49-485a-92ec-3895e96ba861', usage_metadata={'input_tokens': 0, 'output_tokens': 0, 'total_tokens': 0, 'input_token_details': {'cache_read': 0}})}, 'run_id': 'f439872f-df49-485a-92ec-3895e96ba861', 'name': 'ChatGoogleGenerativeAI', 'tags': ['seq:step:1'], 'metadata': {'langgraph_step': 1, 'langgraph_node': 'chat_model', 'langgraph_triggers': ['start:chat_model'], 'langgraph_path': ('__pregel_pull', 'chat_model'), 'langgraph_checkpoint_ns': 'chat_model:7a348f3d-79f4-d705-10b6-08f90c3247aa', 'checkpoint_ns': 'chat_model:7a348f3d-79f4-d705-10b6-08f90c3247aa', 'ls_provider': 'google_genai', 'ls_model_name': 'models/gemini-1.5-flash', 'ls_model_type': 'chat', 'ls_temperature': 0.7}, 'parent_ids': ['893176b4-c223-43bf-bb43-b79141749740', '1ff9b237-5ce1-40b5-aded-52ab42f44699']}\n",
      "\n",
      "--------------\n",
      "\n",
      "{'event': 'on_chat_model_stream', 'data': {'chunk': AIMessageChunk(content=' break it down by group:\\n\\n**1. Pinnipeds (fin-footed mammals):** This group includes seals, sea lions, and walruses', additional_kwargs={}, response_metadata={'safety_ratings': []}, id='run-f439872f-df49-485a-92ec-3895e96ba861', usage_metadata={'input_tokens': 0, 'output_tokens': 0, 'total_tokens': 0, 'input_token_details': {'cache_read': 0}})}, 'run_id': 'f439872f-df49-485a-92ec-3895e96ba861', 'name': 'ChatGoogleGenerativeAI', 'tags': ['seq:step:1'], 'metadata': {'langgraph_step': 1, 'langgraph_node': 'chat_model', 'langgraph_triggers': ['start:chat_model'], 'langgraph_path': ('__pregel_pull', 'chat_model'), 'langgraph_checkpoint_ns': 'chat_model:7a348f3d-79f4-d705-10b6-08f90c3247aa', 'checkpoint_ns': 'chat_model:7a348f3d-79f4-d705-10b6-08f90c3247aa', 'ls_provider': 'google_genai', 'ls_model_name': 'models/gemini-1.5-flash', 'ls_model_type': 'chat', 'ls_temperature': 0.7}, 'parent_ids': ['893176b4-c223-43bf-bb43-b79141749740', '1ff9b237-5ce1-40b5-aded-52ab42f44699']}\n",
      "\n",
      "--------------\n",
      "\n",
      "{'event': 'on_chat_model_stream', 'data': {'chunk': AIMessageChunk(content='.  Each has fascinating differences:\\n\\n* **Seals:**  Generally lack external ear flaps (pinnae), have streamlined bodies for efficient swimming, and often', additional_kwargs={}, response_metadata={'safety_ratings': []}, id='run-f439872f-df49-485a-92ec-3895e96ba861', usage_metadata={'input_tokens': 0, 'output_tokens': 0, 'total_tokens': 0, 'input_token_details': {'cache_read': 0}})}, 'run_id': 'f439872f-df49-485a-92ec-3895e96ba861', 'name': 'ChatGoogleGenerativeAI', 'tags': ['seq:step:1'], 'metadata': {'langgraph_step': 1, 'langgraph_node': 'chat_model', 'langgraph_triggers': ['start:chat_model'], 'langgraph_path': ('__pregel_pull', 'chat_model'), 'langgraph_checkpoint_ns': 'chat_model:7a348f3d-79f4-d705-10b6-08f90c3247aa', 'checkpoint_ns': 'chat_model:7a348f3d-79f4-d705-10b6-08f90c3247aa', 'ls_provider': 'google_genai', 'ls_model_name': 'models/gemini-1.5-flash', 'ls_model_type': 'chat', 'ls_temperature': 0.7}, 'parent_ids': ['893176b4-c223-43bf-bb43-b79141749740', '1ff9b237-5ce1-40b5-aded-52ab42f44699']}\n",
      "\n",
      "--------------\n",
      "\n",
      "{'event': 'on_chat_model_stream', 'data': {'chunk': AIMessageChunk(content=' haul out on land or ice.  Explore the various species like harbor seals, elephant seals (known for their impressive size and proboscis), and leopard seals (fierce predators).\\n* **Sea Lions:** Possess external ear flaps', additional_kwargs={}, response_metadata={'safety_ratings': []}, id='run-f439872f-df49-485a-92ec-3895e96ba861', usage_metadata={'input_tokens': 0, 'output_tokens': 0, 'total_tokens': 0, 'input_token_details': {'cache_read': 0}})}, 'run_id': 'f439872f-df49-485a-92ec-3895e96ba861', 'name': 'ChatGoogleGenerativeAI', 'tags': ['seq:step:1'], 'metadata': {'langgraph_step': 1, 'langgraph_node': 'chat_model', 'langgraph_triggers': ['start:chat_model'], 'langgraph_path': ('__pregel_pull', 'chat_model'), 'langgraph_checkpoint_ns': 'chat_model:7a348f3d-79f4-d705-10b6-08f90c3247aa', 'checkpoint_ns': 'chat_model:7a348f3d-79f4-d705-10b6-08f90c3247aa', 'ls_provider': 'google_genai', 'ls_model_name': 'models/gemini-1.5-flash', 'ls_model_type': 'chat', 'ls_temperature': 0.7}, 'parent_ids': ['893176b4-c223-43bf-bb43-b79141749740', '1ff9b237-5ce1-40b5-aded-52ab42f44699']}\n",
      "\n",
      "--------------\n",
      "\n",
      "{'event': 'on_chat_model_stream', 'data': {'chunk': AIMessageChunk(content=', are generally more agile on land than seals, and often use their foreflippers for propulsion.  California sea lions and Steller sea lions are good examples.\\n* **Walruses:**  Characterized by their massive tusks', additional_kwargs={}, response_metadata={'safety_ratings': []}, id='run-f439872f-df49-485a-92ec-3895e96ba861', usage_metadata={'input_tokens': 0, 'output_tokens': 0, 'total_tokens': 0, 'input_token_details': {'cache_read': 0}})}, 'run_id': 'f439872f-df49-485a-92ec-3895e96ba861', 'name': 'ChatGoogleGenerativeAI', 'tags': ['seq:step:1'], 'metadata': {'langgraph_step': 1, 'langgraph_node': 'chat_model', 'langgraph_triggers': ['start:chat_model'], 'langgraph_path': ('__pregel_pull', 'chat_model'), 'langgraph_checkpoint_ns': 'chat_model:7a348f3d-79f4-d705-10b6-08f90c3247aa', 'checkpoint_ns': 'chat_model:7a348f3d-79f4-d705-10b6-08f90c3247aa', 'ls_provider': 'google_genai', 'ls_model_name': 'models/gemini-1.5-flash', 'ls_model_type': 'chat', 'ls_temperature': 0.7}, 'parent_ids': ['893176b4-c223-43bf-bb43-b79141749740', '1ff9b237-5ce1-40b5-aded-52ab42f44699']}\n",
      "\n",
      "--------------\n",
      "\n",
      "{'event': 'on_chat_model_stream', 'data': {'chunk': AIMessageChunk(content=' used for hauling themselves out of the water, and their thick blubber layer for insulation in frigid arctic waters.\\n\\n**2. Sirenians (sea cows):**  These gentle giants include:\\n\\n* **Manatees:** Found in warmer, coastal waters of the Americas and the Caribbean, known for their slow movements', additional_kwargs={}, response_metadata={'safety_ratings': []}, id='run-f439872f-df49-485a-92ec-3895e96ba861', usage_metadata={'input_tokens': 0, 'output_tokens': 0, 'total_tokens': 0, 'input_token_details': {'cache_read': 0}})}, 'run_id': 'f439872f-df49-485a-92ec-3895e96ba861', 'name': 'ChatGoogleGenerativeAI', 'tags': ['seq:step:1'], 'metadata': {'langgraph_step': 1, 'langgraph_node': 'chat_model', 'langgraph_triggers': ['start:chat_model'], 'langgraph_path': ('__pregel_pull', 'chat_model'), 'langgraph_checkpoint_ns': 'chat_model:7a348f3d-79f4-d705-10b6-08f90c3247aa', 'checkpoint_ns': 'chat_model:7a348f3d-79f4-d705-10b6-08f90c3247aa', 'ls_provider': 'google_genai', 'ls_model_name': 'models/gemini-1.5-flash', 'ls_model_type': 'chat', 'ls_temperature': 0.7}, 'parent_ids': ['893176b4-c223-43bf-bb43-b79141749740', '1ff9b237-5ce1-40b5-aded-52ab42f44699']}\n",
      "\n",
      "--------------\n",
      "\n",
      "{'event': 'on_chat_model_stream', 'data': {'chunk': AIMessageChunk(content=' and herbivorous diet.\\n* **Dugongs:**  Inhabit warmer waters of the Indian and Pacific Oceans, and are also herbivores.\\n\\n**3. Otters:** While some otters live in freshwater, several species are marine:\\n\\n* **Sea Otters:**  The smallest marine mammal in North', additional_kwargs={}, response_metadata={'safety_ratings': []}, id='run-f439872f-df49-485a-92ec-3895e96ba861', usage_metadata={'input_tokens': 0, 'output_tokens': 0, 'total_tokens': 0, 'input_token_details': {'cache_read': 0}})}, 'run_id': 'f439872f-df49-485a-92ec-3895e96ba861', 'name': 'ChatGoogleGenerativeAI', 'tags': ['seq:step:1'], 'metadata': {'langgraph_step': 1, 'langgraph_node': 'chat_model', 'langgraph_triggers': ['start:chat_model'], 'langgraph_path': ('__pregel_pull', 'chat_model'), 'langgraph_checkpoint_ns': 'chat_model:7a348f3d-79f4-d705-10b6-08f90c3247aa', 'checkpoint_ns': 'chat_model:7a348f3d-79f4-d705-10b6-08f90c3247aa', 'ls_provider': 'google_genai', 'ls_model_name': 'models/gemini-1.5-flash', 'ls_model_type': 'chat', 'ls_temperature': 0.7}, 'parent_ids': ['893176b4-c223-43bf-bb43-b79141749740', '1ff9b237-5ce1-40b5-aded-52ab42f44699']}\n",
      "\n",
      "--------------\n",
      "\n",
      "{'event': 'on_chat_model_stream', 'data': {'chunk': AIMessageChunk(content=' America, known for their use of tools (stones to crack open shellfish) and dense fur for insulation.\\n\\n**4. Polar Bears:** While technically not entirely marine, they are highly dependent on the sea ice for hunting seals, their primary food source.  Their conservation status and the impact of climate change on their habitat', additional_kwargs={}, response_metadata={'safety_ratings': []}, id='run-f439872f-df49-485a-92ec-3895e96ba861', usage_metadata={'input_tokens': 0, 'output_tokens': 0, 'total_tokens': 0, 'input_token_details': {'cache_read': 0}})}, 'run_id': 'f439872f-df49-485a-92ec-3895e96ba861', 'name': 'ChatGoogleGenerativeAI', 'tags': ['seq:step:1'], 'metadata': {'langgraph_step': 1, 'langgraph_node': 'chat_model', 'langgraph_triggers': ['start:chat_model'], 'langgraph_path': ('__pregel_pull', 'chat_model'), 'langgraph_checkpoint_ns': 'chat_model:7a348f3d-79f4-d705-10b6-08f90c3247aa', 'checkpoint_ns': 'chat_model:7a348f3d-79f4-d705-10b6-08f90c3247aa', 'ls_provider': 'google_genai', 'ls_model_name': 'models/gemini-1.5-flash', 'ls_model_type': 'chat', 'ls_temperature': 0.7}, 'parent_ids': ['893176b4-c223-43bf-bb43-b79141749740', '1ff9b237-5ce1-40b5-aded-52ab42f44699']}\n",
      "\n",
      "--------------\n",
      "\n",
      "{'event': 'on_chat_model_stream', 'data': {'chunk': AIMessageChunk(content=' are crucial aspects to research.\\n\\n\\nTo make your research more focused, consider these avenues:\\n\\n* **Specific geographic location:**  Focus on the ocean mammals found in a particular region (e.g., the Arctic, the Antarctic, the Pacific Northwest).\\n* **Specific behaviors:**  Explore topics like communication, hunting', additional_kwargs={}, response_metadata={'safety_ratings': []}, id='run-f439872f-df49-485a-92ec-3895e96ba861', usage_metadata={'input_tokens': 0, 'output_tokens': 0, 'total_tokens': 0, 'input_token_details': {'cache_read': 0}})}, 'run_id': 'f439872f-df49-485a-92ec-3895e96ba861', 'name': 'ChatGoogleGenerativeAI', 'tags': ['seq:step:1'], 'metadata': {'langgraph_step': 1, 'langgraph_node': 'chat_model', 'langgraph_triggers': ['start:chat_model'], 'langgraph_path': ('__pregel_pull', 'chat_model'), 'langgraph_checkpoint_ns': 'chat_model:7a348f3d-79f4-d705-10b6-08f90c3247aa', 'checkpoint_ns': 'chat_model:7a348f3d-79f4-d705-10b6-08f90c3247aa', 'ls_provider': 'google_genai', 'ls_model_name': 'models/gemini-1.5-flash', 'ls_model_type': 'chat', 'ls_temperature': 0.7}, 'parent_ids': ['893176b4-c223-43bf-bb43-b79141749740', '1ff9b237-5ce1-40b5-aded-52ab42f44699']}\n",
      "\n",
      "--------------\n",
      "\n",
      "{'event': 'on_chat_model_stream', 'data': {'chunk': AIMessageChunk(content=' strategies, social structures, migration patterns, or reproductive strategies.\\n* **Conservation status:**  Research endangered or threatened species and the challenges they face (habitat loss, pollution, climate change, entanglement in fishing gear).\\n\\n\\nBy choosing a specific area of focus, you can delve deeper into the fascinating world of ocean mammals and', additional_kwargs={}, response_metadata={'safety_ratings': []}, id='run-f439872f-df49-485a-92ec-3895e96ba861', usage_metadata={'input_tokens': 0, 'output_tokens': 0, 'total_tokens': 0, 'input_token_details': {'cache_read': 0}})}, 'run_id': 'f439872f-df49-485a-92ec-3895e96ba861', 'name': 'ChatGoogleGenerativeAI', 'tags': ['seq:step:1'], 'metadata': {'langgraph_step': 1, 'langgraph_node': 'chat_model', 'langgraph_triggers': ['start:chat_model'], 'langgraph_path': ('__pregel_pull', 'chat_model'), 'langgraph_checkpoint_ns': 'chat_model:7a348f3d-79f4-d705-10b6-08f90c3247aa', 'checkpoint_ns': 'chat_model:7a348f3d-79f4-d705-10b6-08f90c3247aa', 'ls_provider': 'google_genai', 'ls_model_name': 'models/gemini-1.5-flash', 'ls_model_type': 'chat', 'ls_temperature': 0.7}, 'parent_ids': ['893176b4-c223-43bf-bb43-b79141749740', '1ff9b237-5ce1-40b5-aded-52ab42f44699']}\n",
      "\n",
      "--------------\n",
      "\n",
      "{'event': 'on_chat_model_stream', 'data': {'chunk': AIMessageChunk(content=\" develop a more comprehensive understanding.  Let me know if you'd like to explore any of these areas in more detail!\\n\", additional_kwargs={}, response_metadata={'finish_reason': 'STOP', 'safety_ratings': []}, id='run-f439872f-df49-485a-92ec-3895e96ba861', usage_metadata={'input_tokens': 0, 'output_tokens': 539, 'total_tokens': 539, 'input_token_details': {'cache_read': 0}})}, 'run_id': 'f439872f-df49-485a-92ec-3895e96ba861', 'name': 'ChatGoogleGenerativeAI', 'tags': ['seq:step:1'], 'metadata': {'langgraph_step': 1, 'langgraph_node': 'chat_model', 'langgraph_triggers': ['start:chat_model'], 'langgraph_path': ('__pregel_pull', 'chat_model'), 'langgraph_checkpoint_ns': 'chat_model:7a348f3d-79f4-d705-10b6-08f90c3247aa', 'checkpoint_ns': 'chat_model:7a348f3d-79f4-d705-10b6-08f90c3247aa', 'ls_provider': 'google_genai', 'ls_model_name': 'models/gemini-1.5-flash', 'ls_model_type': 'chat', 'ls_temperature': 0.7}, 'parent_ids': ['893176b4-c223-43bf-bb43-b79141749740', '1ff9b237-5ce1-40b5-aded-52ab42f44699']}\n",
      "\n",
      "--------------\n",
      "\n",
      "{'event': 'on_chat_model_end', 'data': {'output': AIMessage(content=\"That's great you're familiar with whales!  Beyond whales, the world of ocean mammals is incredibly diverse.  To suggest further research, let's break it down by group:\\n\\n**1. Pinnipeds (fin-footed mammals):** This group includes seals, sea lions, and walruses.  Each has fascinating differences:\\n\\n* **Seals:**  Generally lack external ear flaps (pinnae), have streamlined bodies for efficient swimming, and often haul out on land or ice.  Explore the various species like harbor seals, elephant seals (known for their impressive size and proboscis), and leopard seals (fierce predators).\\n* **Sea Lions:** Possess external ear flaps, are generally more agile on land than seals, and often use their foreflippers for propulsion.  California sea lions and Steller sea lions are good examples.\\n* **Walruses:**  Characterized by their massive tusks used for hauling themselves out of the water, and their thick blubber layer for insulation in frigid arctic waters.\\n\\n**2. Sirenians (sea cows):**  These gentle giants include:\\n\\n* **Manatees:** Found in warmer, coastal waters of the Americas and the Caribbean, known for their slow movements and herbivorous diet.\\n* **Dugongs:**  Inhabit warmer waters of the Indian and Pacific Oceans, and are also herbivores.\\n\\n**3. Otters:** While some otters live in freshwater, several species are marine:\\n\\n* **Sea Otters:**  The smallest marine mammal in North America, known for their use of tools (stones to crack open shellfish) and dense fur for insulation.\\n\\n**4. Polar Bears:** While technically not entirely marine, they are highly dependent on the sea ice for hunting seals, their primary food source.  Their conservation status and the impact of climate change on their habitat are crucial aspects to research.\\n\\n\\nTo make your research more focused, consider these avenues:\\n\\n* **Specific geographic location:**  Focus on the ocean mammals found in a particular region (e.g., the Arctic, the Antarctic, the Pacific Northwest).\\n* **Specific behaviors:**  Explore topics like communication, hunting strategies, social structures, migration patterns, or reproductive strategies.\\n* **Conservation status:**  Research endangered or threatened species and the challenges they face (habitat loss, pollution, climate change, entanglement in fishing gear).\\n\\n\\nBy choosing a specific area of focus, you can delve deeper into the fascinating world of ocean mammals and develop a more comprehensive understanding.  Let me know if you'd like to explore any of these areas in more detail!\\n\", additional_kwargs={}, response_metadata={'safety_ratings': [], 'finish_reason': 'STOP'}, id='run-f439872f-df49-485a-92ec-3895e96ba861', usage_metadata={'input_tokens': 26, 'output_tokens': 539, 'total_tokens': 565, 'input_token_details': {'cache_read': 0}}), 'input': {'messages': [[AIMessage(content='So you said you were researching ocean mammals?', additional_kwargs={}, response_metadata={}, name='Bot', id='754e2276-8e0c-4deb-b4b4-6e9fafa5302c'), HumanMessage(content='Yes, I know about whales. But what others should I learn about?', additional_kwargs={}, response_metadata={}, name='Lance', id='08f52b15-0987-450c-ac45-491cbd919bfb')]]}}, 'run_id': 'f439872f-df49-485a-92ec-3895e96ba861', 'name': 'ChatGoogleGenerativeAI', 'tags': ['seq:step:1'], 'metadata': {'langgraph_step': 1, 'langgraph_node': 'chat_model', 'langgraph_triggers': ['start:chat_model'], 'langgraph_path': ('__pregel_pull', 'chat_model'), 'langgraph_checkpoint_ns': 'chat_model:7a348f3d-79f4-d705-10b6-08f90c3247aa', 'checkpoint_ns': 'chat_model:7a348f3d-79f4-d705-10b6-08f90c3247aa', 'ls_provider': 'google_genai', 'ls_model_name': 'models/gemini-1.5-flash', 'ls_model_type': 'chat', 'ls_temperature': 0.7}, 'parent_ids': ['893176b4-c223-43bf-bb43-b79141749740', '1ff9b237-5ce1-40b5-aded-52ab42f44699']}\n",
      "\n",
      "--------------\n",
      "\n",
      "{'event': 'on_chain_start', 'data': {'input': {'messages': AIMessage(content=\"That's great you're familiar with whales!  Beyond whales, the world of ocean mammals is incredibly diverse.  To suggest further research, let's break it down by group:\\n\\n**1. Pinnipeds (fin-footed mammals):** This group includes seals, sea lions, and walruses.  Each has fascinating differences:\\n\\n* **Seals:**  Generally lack external ear flaps (pinnae), have streamlined bodies for efficient swimming, and often haul out on land or ice.  Explore the various species like harbor seals, elephant seals (known for their impressive size and proboscis), and leopard seals (fierce predators).\\n* **Sea Lions:** Possess external ear flaps, are generally more agile on land than seals, and often use their foreflippers for propulsion.  California sea lions and Steller sea lions are good examples.\\n* **Walruses:**  Characterized by their massive tusks used for hauling themselves out of the water, and their thick blubber layer for insulation in frigid arctic waters.\\n\\n**2. Sirenians (sea cows):**  These gentle giants include:\\n\\n* **Manatees:** Found in warmer, coastal waters of the Americas and the Caribbean, known for their slow movements and herbivorous diet.\\n* **Dugongs:**  Inhabit warmer waters of the Indian and Pacific Oceans, and are also herbivores.\\n\\n**3. Otters:** While some otters live in freshwater, several species are marine:\\n\\n* **Sea Otters:**  The smallest marine mammal in North America, known for their use of tools (stones to crack open shellfish) and dense fur for insulation.\\n\\n**4. Polar Bears:** While technically not entirely marine, they are highly dependent on the sea ice for hunting seals, their primary food source.  Their conservation status and the impact of climate change on their habitat are crucial aspects to research.\\n\\n\\nTo make your research more focused, consider these avenues:\\n\\n* **Specific geographic location:**  Focus on the ocean mammals found in a particular region (e.g., the Arctic, the Antarctic, the Pacific Northwest).\\n* **Specific behaviors:**  Explore topics like communication, hunting strategies, social structures, migration patterns, or reproductive strategies.\\n* **Conservation status:**  Research endangered or threatened species and the challenges they face (habitat loss, pollution, climate change, entanglement in fishing gear).\\n\\n\\nBy choosing a specific area of focus, you can delve deeper into the fascinating world of ocean mammals and develop a more comprehensive understanding.  Let me know if you'd like to explore any of these areas in more detail!\\n\", additional_kwargs={}, response_metadata={'safety_ratings': [], 'finish_reason': 'STOP'}, id='run-f439872f-df49-485a-92ec-3895e96ba861', usage_metadata={'input_tokens': 26, 'output_tokens': 539, 'total_tokens': 565, 'input_token_details': {'cache_read': 0}})}}, 'name': '_write', 'tags': ['seq:step:2', 'langsmith:hidden'], 'run_id': 'c3f1b9fb-be33-4ce7-a98e-5538b49f53a9', 'metadata': {'langgraph_step': 1, 'langgraph_node': 'chat_model', 'langgraph_triggers': ['start:chat_model'], 'langgraph_path': ('__pregel_pull', 'chat_model'), 'langgraph_checkpoint_ns': 'chat_model:7a348f3d-79f4-d705-10b6-08f90c3247aa'}, 'parent_ids': ['893176b4-c223-43bf-bb43-b79141749740', '1ff9b237-5ce1-40b5-aded-52ab42f44699']}\n",
      "\n",
      "--------------\n",
      "\n",
      "{'event': 'on_chain_end', 'data': {'output': {'messages': AIMessage(content=\"That's great you're familiar with whales!  Beyond whales, the world of ocean mammals is incredibly diverse.  To suggest further research, let's break it down by group:\\n\\n**1. Pinnipeds (fin-footed mammals):** This group includes seals, sea lions, and walruses.  Each has fascinating differences:\\n\\n* **Seals:**  Generally lack external ear flaps (pinnae), have streamlined bodies for efficient swimming, and often haul out on land or ice.  Explore the various species like harbor seals, elephant seals (known for their impressive size and proboscis), and leopard seals (fierce predators).\\n* **Sea Lions:** Possess external ear flaps, are generally more agile on land than seals, and often use their foreflippers for propulsion.  California sea lions and Steller sea lions are good examples.\\n* **Walruses:**  Characterized by their massive tusks used for hauling themselves out of the water, and their thick blubber layer for insulation in frigid arctic waters.\\n\\n**2. Sirenians (sea cows):**  These gentle giants include:\\n\\n* **Manatees:** Found in warmer, coastal waters of the Americas and the Caribbean, known for their slow movements and herbivorous diet.\\n* **Dugongs:**  Inhabit warmer waters of the Indian and Pacific Oceans, and are also herbivores.\\n\\n**3. Otters:** While some otters live in freshwater, several species are marine:\\n\\n* **Sea Otters:**  The smallest marine mammal in North America, known for their use of tools (stones to crack open shellfish) and dense fur for insulation.\\n\\n**4. Polar Bears:** While technically not entirely marine, they are highly dependent on the sea ice for hunting seals, their primary food source.  Their conservation status and the impact of climate change on their habitat are crucial aspects to research.\\n\\n\\nTo make your research more focused, consider these avenues:\\n\\n* **Specific geographic location:**  Focus on the ocean mammals found in a particular region (e.g., the Arctic, the Antarctic, the Pacific Northwest).\\n* **Specific behaviors:**  Explore topics like communication, hunting strategies, social structures, migration patterns, or reproductive strategies.\\n* **Conservation status:**  Research endangered or threatened species and the challenges they face (habitat loss, pollution, climate change, entanglement in fishing gear).\\n\\n\\nBy choosing a specific area of focus, you can delve deeper into the fascinating world of ocean mammals and develop a more comprehensive understanding.  Let me know if you'd like to explore any of these areas in more detail!\\n\", additional_kwargs={}, response_metadata={'safety_ratings': [], 'finish_reason': 'STOP'}, id='run-f439872f-df49-485a-92ec-3895e96ba861', usage_metadata={'input_tokens': 26, 'output_tokens': 539, 'total_tokens': 565, 'input_token_details': {'cache_read': 0}})}, 'input': {'messages': AIMessage(content=\"That's great you're familiar with whales!  Beyond whales, the world of ocean mammals is incredibly diverse.  To suggest further research, let's break it down by group:\\n\\n**1. Pinnipeds (fin-footed mammals):** This group includes seals, sea lions, and walruses.  Each has fascinating differences:\\n\\n* **Seals:**  Generally lack external ear flaps (pinnae), have streamlined bodies for efficient swimming, and often haul out on land or ice.  Explore the various species like harbor seals, elephant seals (known for their impressive size and proboscis), and leopard seals (fierce predators).\\n* **Sea Lions:** Possess external ear flaps, are generally more agile on land than seals, and often use their foreflippers for propulsion.  California sea lions and Steller sea lions are good examples.\\n* **Walruses:**  Characterized by their massive tusks used for hauling themselves out of the water, and their thick blubber layer for insulation in frigid arctic waters.\\n\\n**2. Sirenians (sea cows):**  These gentle giants include:\\n\\n* **Manatees:** Found in warmer, coastal waters of the Americas and the Caribbean, known for their slow movements and herbivorous diet.\\n* **Dugongs:**  Inhabit warmer waters of the Indian and Pacific Oceans, and are also herbivores.\\n\\n**3. Otters:** While some otters live in freshwater, several species are marine:\\n\\n* **Sea Otters:**  The smallest marine mammal in North America, known for their use of tools (stones to crack open shellfish) and dense fur for insulation.\\n\\n**4. Polar Bears:** While technically not entirely marine, they are highly dependent on the sea ice for hunting seals, their primary food source.  Their conservation status and the impact of climate change on their habitat are crucial aspects to research.\\n\\n\\nTo make your research more focused, consider these avenues:\\n\\n* **Specific geographic location:**  Focus on the ocean mammals found in a particular region (e.g., the Arctic, the Antarctic, the Pacific Northwest).\\n* **Specific behaviors:**  Explore topics like communication, hunting strategies, social structures, migration patterns, or reproductive strategies.\\n* **Conservation status:**  Research endangered or threatened species and the challenges they face (habitat loss, pollution, climate change, entanglement in fishing gear).\\n\\n\\nBy choosing a specific area of focus, you can delve deeper into the fascinating world of ocean mammals and develop a more comprehensive understanding.  Let me know if you'd like to explore any of these areas in more detail!\\n\", additional_kwargs={}, response_metadata={'safety_ratings': [], 'finish_reason': 'STOP'}, id='run-f439872f-df49-485a-92ec-3895e96ba861', usage_metadata={'input_tokens': 26, 'output_tokens': 539, 'total_tokens': 565, 'input_token_details': {'cache_read': 0}})}}, 'run_id': 'c3f1b9fb-be33-4ce7-a98e-5538b49f53a9', 'name': '_write', 'tags': ['seq:step:2', 'langsmith:hidden'], 'metadata': {'langgraph_step': 1, 'langgraph_node': 'chat_model', 'langgraph_triggers': ['start:chat_model'], 'langgraph_path': ('__pregel_pull', 'chat_model'), 'langgraph_checkpoint_ns': 'chat_model:7a348f3d-79f4-d705-10b6-08f90c3247aa'}, 'parent_ids': ['893176b4-c223-43bf-bb43-b79141749740', '1ff9b237-5ce1-40b5-aded-52ab42f44699']}\n",
      "\n",
      "--------------\n",
      "\n",
      "{'event': 'on_chain_stream', 'run_id': '1ff9b237-5ce1-40b5-aded-52ab42f44699', 'name': 'chat_model', 'tags': ['graph:step:1'], 'metadata': {'langgraph_step': 1, 'langgraph_node': 'chat_model', 'langgraph_triggers': ['start:chat_model'], 'langgraph_path': ('__pregel_pull', 'chat_model'), 'langgraph_checkpoint_ns': 'chat_model:7a348f3d-79f4-d705-10b6-08f90c3247aa'}, 'data': {'chunk': {'messages': AIMessage(content=\"That's great you're familiar with whales!  Beyond whales, the world of ocean mammals is incredibly diverse.  To suggest further research, let's break it down by group:\\n\\n**1. Pinnipeds (fin-footed mammals):** This group includes seals, sea lions, and walruses.  Each has fascinating differences:\\n\\n* **Seals:**  Generally lack external ear flaps (pinnae), have streamlined bodies for efficient swimming, and often haul out on land or ice.  Explore the various species like harbor seals, elephant seals (known for their impressive size and proboscis), and leopard seals (fierce predators).\\n* **Sea Lions:** Possess external ear flaps, are generally more agile on land than seals, and often use their foreflippers for propulsion.  California sea lions and Steller sea lions are good examples.\\n* **Walruses:**  Characterized by their massive tusks used for hauling themselves out of the water, and their thick blubber layer for insulation in frigid arctic waters.\\n\\n**2. Sirenians (sea cows):**  These gentle giants include:\\n\\n* **Manatees:** Found in warmer, coastal waters of the Americas and the Caribbean, known for their slow movements and herbivorous diet.\\n* **Dugongs:**  Inhabit warmer waters of the Indian and Pacific Oceans, and are also herbivores.\\n\\n**3. Otters:** While some otters live in freshwater, several species are marine:\\n\\n* **Sea Otters:**  The smallest marine mammal in North America, known for their use of tools (stones to crack open shellfish) and dense fur for insulation.\\n\\n**4. Polar Bears:** While technically not entirely marine, they are highly dependent on the sea ice for hunting seals, their primary food source.  Their conservation status and the impact of climate change on their habitat are crucial aspects to research.\\n\\n\\nTo make your research more focused, consider these avenues:\\n\\n* **Specific geographic location:**  Focus on the ocean mammals found in a particular region (e.g., the Arctic, the Antarctic, the Pacific Northwest).\\n* **Specific behaviors:**  Explore topics like communication, hunting strategies, social structures, migration patterns, or reproductive strategies.\\n* **Conservation status:**  Research endangered or threatened species and the challenges they face (habitat loss, pollution, climate change, entanglement in fishing gear).\\n\\n\\nBy choosing a specific area of focus, you can delve deeper into the fascinating world of ocean mammals and develop a more comprehensive understanding.  Let me know if you'd like to explore any of these areas in more detail!\\n\", additional_kwargs={}, response_metadata={'safety_ratings': [], 'finish_reason': 'STOP'}, id='run-f439872f-df49-485a-92ec-3895e96ba861', usage_metadata={'input_tokens': 26, 'output_tokens': 539, 'total_tokens': 565, 'input_token_details': {'cache_read': 0}})}}, 'parent_ids': ['893176b4-c223-43bf-bb43-b79141749740']}\n",
      "\n",
      "--------------\n",
      "\n",
      "{'event': 'on_chain_end', 'data': {'output': {'messages': AIMessage(content=\"That's great you're familiar with whales!  Beyond whales, the world of ocean mammals is incredibly diverse.  To suggest further research, let's break it down by group:\\n\\n**1. Pinnipeds (fin-footed mammals):** This group includes seals, sea lions, and walruses.  Each has fascinating differences:\\n\\n* **Seals:**  Generally lack external ear flaps (pinnae), have streamlined bodies for efficient swimming, and often haul out on land or ice.  Explore the various species like harbor seals, elephant seals (known for their impressive size and proboscis), and leopard seals (fierce predators).\\n* **Sea Lions:** Possess external ear flaps, are generally more agile on land than seals, and often use their foreflippers for propulsion.  California sea lions and Steller sea lions are good examples.\\n* **Walruses:**  Characterized by their massive tusks used for hauling themselves out of the water, and their thick blubber layer for insulation in frigid arctic waters.\\n\\n**2. Sirenians (sea cows):**  These gentle giants include:\\n\\n* **Manatees:** Found in warmer, coastal waters of the Americas and the Caribbean, known for their slow movements and herbivorous diet.\\n* **Dugongs:**  Inhabit warmer waters of the Indian and Pacific Oceans, and are also herbivores.\\n\\n**3. Otters:** While some otters live in freshwater, several species are marine:\\n\\n* **Sea Otters:**  The smallest marine mammal in North America, known for their use of tools (stones to crack open shellfish) and dense fur for insulation.\\n\\n**4. Polar Bears:** While technically not entirely marine, they are highly dependent on the sea ice for hunting seals, their primary food source.  Their conservation status and the impact of climate change on their habitat are crucial aspects to research.\\n\\n\\nTo make your research more focused, consider these avenues:\\n\\n* **Specific geographic location:**  Focus on the ocean mammals found in a particular region (e.g., the Arctic, the Antarctic, the Pacific Northwest).\\n* **Specific behaviors:**  Explore topics like communication, hunting strategies, social structures, migration patterns, or reproductive strategies.\\n* **Conservation status:**  Research endangered or threatened species and the challenges they face (habitat loss, pollution, climate change, entanglement in fishing gear).\\n\\n\\nBy choosing a specific area of focus, you can delve deeper into the fascinating world of ocean mammals and develop a more comprehensive understanding.  Let me know if you'd like to explore any of these areas in more detail!\\n\", additional_kwargs={}, response_metadata={'safety_ratings': [], 'finish_reason': 'STOP'}, id='run-f439872f-df49-485a-92ec-3895e96ba861', usage_metadata={'input_tokens': 26, 'output_tokens': 539, 'total_tokens': 565, 'input_token_details': {'cache_read': 0}})}, 'input': {'messages': [AIMessage(content='So you said you were researching ocean mammals?', additional_kwargs={}, response_metadata={}, name='Bot', id='754e2276-8e0c-4deb-b4b4-6e9fafa5302c'), HumanMessage(content='Yes, I know about whales. But what others should I learn about?', additional_kwargs={}, response_metadata={}, name='Lance', id='08f52b15-0987-450c-ac45-491cbd919bfb')]}}, 'run_id': '1ff9b237-5ce1-40b5-aded-52ab42f44699', 'name': 'chat_model', 'tags': ['graph:step:1'], 'metadata': {'langgraph_step': 1, 'langgraph_node': 'chat_model', 'langgraph_triggers': ['start:chat_model'], 'langgraph_path': ('__pregel_pull', 'chat_model'), 'langgraph_checkpoint_ns': 'chat_model:7a348f3d-79f4-d705-10b6-08f90c3247aa'}, 'parent_ids': ['893176b4-c223-43bf-bb43-b79141749740']}\n",
      "\n",
      "--------------\n",
      "\n",
      "{'event': 'on_chain_stream', 'run_id': '893176b4-c223-43bf-bb43-b79141749740', 'name': 'LangGraph', 'tags': [], 'metadata': {}, 'data': {'chunk': {'chat_model': {'messages': AIMessage(content=\"That's great you're familiar with whales!  Beyond whales, the world of ocean mammals is incredibly diverse.  To suggest further research, let's break it down by group:\\n\\n**1. Pinnipeds (fin-footed mammals):** This group includes seals, sea lions, and walruses.  Each has fascinating differences:\\n\\n* **Seals:**  Generally lack external ear flaps (pinnae), have streamlined bodies for efficient swimming, and often haul out on land or ice.  Explore the various species like harbor seals, elephant seals (known for their impressive size and proboscis), and leopard seals (fierce predators).\\n* **Sea Lions:** Possess external ear flaps, are generally more agile on land than seals, and often use their foreflippers for propulsion.  California sea lions and Steller sea lions are good examples.\\n* **Walruses:**  Characterized by their massive tusks used for hauling themselves out of the water, and their thick blubber layer for insulation in frigid arctic waters.\\n\\n**2. Sirenians (sea cows):**  These gentle giants include:\\n\\n* **Manatees:** Found in warmer, coastal waters of the Americas and the Caribbean, known for their slow movements and herbivorous diet.\\n* **Dugongs:**  Inhabit warmer waters of the Indian and Pacific Oceans, and are also herbivores.\\n\\n**3. Otters:** While some otters live in freshwater, several species are marine:\\n\\n* **Sea Otters:**  The smallest marine mammal in North America, known for their use of tools (stones to crack open shellfish) and dense fur for insulation.\\n\\n**4. Polar Bears:** While technically not entirely marine, they are highly dependent on the sea ice for hunting seals, their primary food source.  Their conservation status and the impact of climate change on their habitat are crucial aspects to research.\\n\\n\\nTo make your research more focused, consider these avenues:\\n\\n* **Specific geographic location:**  Focus on the ocean mammals found in a particular region (e.g., the Arctic, the Antarctic, the Pacific Northwest).\\n* **Specific behaviors:**  Explore topics like communication, hunting strategies, social structures, migration patterns, or reproductive strategies.\\n* **Conservation status:**  Research endangered or threatened species and the challenges they face (habitat loss, pollution, climate change, entanglement in fishing gear).\\n\\n\\nBy choosing a specific area of focus, you can delve deeper into the fascinating world of ocean mammals and develop a more comprehensive understanding.  Let me know if you'd like to explore any of these areas in more detail!\\n\", additional_kwargs={}, response_metadata={'safety_ratings': [], 'finish_reason': 'STOP'}, id='run-f439872f-df49-485a-92ec-3895e96ba861', usage_metadata={'input_tokens': 26, 'output_tokens': 539, 'total_tokens': 565, 'input_token_details': {'cache_read': 0}})}}}, 'parent_ids': []}\n",
      "\n",
      "--------------\n",
      "\n",
      "{'event': 'on_chain_end', 'data': {'output': {'messages': [AIMessage(content='So you said you were researching ocean mammals?', additional_kwargs={}, response_metadata={}, name='Bot', id='754e2276-8e0c-4deb-b4b4-6e9fafa5302c'), HumanMessage(content='Yes, I know about whales. But what others should I learn about?', additional_kwargs={}, response_metadata={}, name='Lance', id='08f52b15-0987-450c-ac45-491cbd919bfb'), AIMessage(content=\"That's great you're familiar with whales!  Beyond whales, the world of ocean mammals is incredibly diverse.  To suggest further research, let's break it down by group:\\n\\n**1. Pinnipeds (fin-footed mammals):** This group includes seals, sea lions, and walruses.  Each has fascinating differences:\\n\\n* **Seals:**  Generally lack external ear flaps (pinnae), have streamlined bodies for efficient swimming, and often haul out on land or ice.  Explore the various species like harbor seals, elephant seals (known for their impressive size and proboscis), and leopard seals (fierce predators).\\n* **Sea Lions:** Possess external ear flaps, are generally more agile on land than seals, and often use their foreflippers for propulsion.  California sea lions and Steller sea lions are good examples.\\n* **Walruses:**  Characterized by their massive tusks used for hauling themselves out of the water, and their thick blubber layer for insulation in frigid arctic waters.\\n\\n**2. Sirenians (sea cows):**  These gentle giants include:\\n\\n* **Manatees:** Found in warmer, coastal waters of the Americas and the Caribbean, known for their slow movements and herbivorous diet.\\n* **Dugongs:**  Inhabit warmer waters of the Indian and Pacific Oceans, and are also herbivores.\\n\\n**3. Otters:** While some otters live in freshwater, several species are marine:\\n\\n* **Sea Otters:**  The smallest marine mammal in North America, known for their use of tools (stones to crack open shellfish) and dense fur for insulation.\\n\\n**4. Polar Bears:** While technically not entirely marine, they are highly dependent on the sea ice for hunting seals, their primary food source.  Their conservation status and the impact of climate change on their habitat are crucial aspects to research.\\n\\n\\nTo make your research more focused, consider these avenues:\\n\\n* **Specific geographic location:**  Focus on the ocean mammals found in a particular region (e.g., the Arctic, the Antarctic, the Pacific Northwest).\\n* **Specific behaviors:**  Explore topics like communication, hunting strategies, social structures, migration patterns, or reproductive strategies.\\n* **Conservation status:**  Research endangered or threatened species and the challenges they face (habitat loss, pollution, climate change, entanglement in fishing gear).\\n\\n\\nBy choosing a specific area of focus, you can delve deeper into the fascinating world of ocean mammals and develop a more comprehensive understanding.  Let me know if you'd like to explore any of these areas in more detail!\\n\", additional_kwargs={}, response_metadata={'safety_ratings': [], 'finish_reason': 'STOP'}, id='run-f439872f-df49-485a-92ec-3895e96ba861', usage_metadata={'input_tokens': 26, 'output_tokens': 539, 'total_tokens': 565, 'input_token_details': {'cache_read': 0}})]}}, 'run_id': '893176b4-c223-43bf-bb43-b79141749740', 'name': 'LangGraph', 'tags': [], 'metadata': {}, 'parent_ids': []}\n",
      "\n",
      "--------------\n",
      "\n"
     ]
    }
   ],
   "source": [
    "async for m in graph.astream_events({'messages': messages}, version=\"v2\"): # The version argument is now correctly passed as a keyword argument.\n",
    "      print(m)\n",
    "      print(\"\\n--------------\\n\")"
   ]
  },
  {
   "cell_type": "markdown",
   "metadata": {},
   "source": [
    "### Filtering Messages"
   ]
  },
  {
   "cell_type": "code",
   "execution_count": 42,
   "metadata": {},
   "outputs": [
    {
     "data": {
      "image/png": "[encoded data removed]",
      "text/plain": [
       "<IPython.core.display.Image object>"
      ]
     },
     "metadata": {},
     "output_type": "display_data"
    }
   ],
   "source": [
    "def filter_messages(state:MessagesState):\n",
    "    delete_messages = [RemoveMessage(id=m.id) for m in state['messages'][:-2]]\n",
    "    return {'messages':delete_messages}\n",
    "\n",
    "def chat_model(state:MessagesState):\n",
    "    return {'messages':llm.invoke(state['messages'])}\n",
    "\n",
    "workflow :StateGraph = StateGraph(MessagesState)\n",
    "workflow.add_node('filter_message',filter_messages)\n",
    "workflow.add_node('chat_model',chat_model)\n",
    "\n",
    "workflow.add_edge(START,'filter_message')\n",
    "workflow.add_edge('filter_message','chat_model')\n",
    "workflow.add_edge('chat_model',END)\n",
    "\n",
    "graph:CompiledStateGraph = workflow.compile()\n",
    "\n",
    "display(Image(graph.get_graph().draw_mermaid_png()))"
   ]
  },
  {
   "cell_type": "code",
   "execution_count": 43,
   "metadata": {},
   "outputs": [
    {
     "name": "stdout",
     "output_type": "stream",
     "text": [
      "==================================\u001b[1m Ai Message \u001b[0m==================================\n",
      "Name: Bot\n",
      "\n",
      "So you said you were researching ocean mammals?\n",
      "================================\u001b[1m Human Message \u001b[0m=================================\n",
      "Name: Lance\n",
      "\n",
      "Yes, I know about whales. But what others should I learn about?\n",
      "==================================\u001b[1m Ai Message \u001b[0m==================================\n",
      "\n",
      "That's great you're starting with whales!  They're a fascinating group.  Beyond whales, the world of ocean mammals is incredibly diverse. To broaden your research, consider these groups:\n",
      "\n",
      "**1. Seals, Sea Lions, and Walruses (Pinnipeds):**  This is a large and diverse group with fascinating adaptations for both aquatic and terrestrial life.  Consider focusing on:\n",
      "\n",
      "* **Differences between seals, sea lions, and walruses:**  Their physical characteristics (flippers, fur, etc.), hunting methods, and social behaviors differ significantly.\n",
      "* **Adaptations to cold environments:** Many pinnipeds live in frigid waters and have developed remarkable adaptations for survival.\n",
      "* **Conservation status:**  Many pinniped populations face threats from habitat loss, pollution, and hunting.\n",
      "\n",
      "**2. Sea Otters:** These adorable, highly intelligent animals are the smallest marine mammals in North America.  Research could focus on:\n",
      "\n",
      "* **Their role in kelp forest ecosystems:** Sea otters are keystone species, meaning their presence significantly impacts the health of their environment.\n",
      "* **Their unique foraging behaviors:** They use tools to open shellfish and other prey.\n",
      "* **Their vulnerability to pollution and habitat destruction:**  Oil spills and other forms of pollution severely impact sea otter populations.\n",
      "\n",
      "**3. Polar Bears:** While often associated with ice floes, they are marine mammals that rely heavily on the ocean for hunting seals. Research could cover:\n",
      "\n",
      "* **The impact of climate change on their habitat:** Melting sea ice is a major threat to polar bear survival.\n",
      "* **Their hunting strategies and adaptations:**  Their incredible swimming ability and hunting techniques are crucial to their survival.\n",
      "* **Conservation efforts and challenges:**  Protecting polar bears requires international cooperation and addressing climate change.\n",
      "\n",
      "**4. Sirenians (Manatees and Dugongs):** These gentle giants are herbivores that inhabit shallow coastal waters.  Your research could explore:\n",
      "\n",
      "* **Their diet and habitat preferences:**  They are crucial to the health of seagrass beds.\n",
      "* **Threats from human activities:**  Boat strikes, habitat destruction, and pollution are major concerns.\n",
      "* **Their slow reproductive rates:**  This makes them particularly vulnerable to population declines.\n",
      "\n",
      "**5. Dolphins and Porpoises (Odontocetes):** While you mentioned whales, this is a huge group separate from the baleen whales.  Focusing on specific species or aspects of their biology will help narrow your research.  Examples include:\n",
      "\n",
      "* **Echolocation:** How they use sound to navigate and hunt.\n",
      "* **Social structures and communication:**  Their complex social behaviors and vocalizations.\n",
      "* **Specific species:**  Bottlenose dolphins, orcas (killer whales), river dolphins, etc., each have unique adaptations and behaviors.\n",
      "\n",
      "Remember to be specific in your research. Instead of \"whales,\" consider focusing on \"humpback whale migration patterns\" or \"the communication methods of orcas.\"  This will help you delve deeper into the fascinating world of ocean mammals.\n"
     ]
    }
   ],
   "source": [
    "# Message list with a preamble\n",
    "messages = [AIMessage(\"Hi.\", name=\"Bot\", id=\"1\")]\n",
    "messages.append(HumanMessage(\"Hi.\", name=\"Lance\", id=\"2\"))\n",
    "messages.append(AIMessage(\"So you said you were researching ocean mammals?\", name=\"Bot\", id=\"3\"))\n",
    "messages.append(HumanMessage(\"Yes, I know about whales. But what others should I learn about?\", name=\"Lance\", id=\"4\"))\n",
    "\n",
    "output = graph.invoke({'messages': messages})\n",
    "\n",
    "for m in output['messages']:\n",
    "    m.pretty_print()\n"
   ]
  },
  {
   "cell_type": "code",
   "execution_count": 47,
   "metadata": {},
   "outputs": [
    {
     "data": {
      "image/png": "[encoded data removed]",
      "text/plain": [
       "<IPython.core.display.Image object>"
      ]
     },
     "metadata": {},
     "output_type": "display_data"
    }
   ],
   "source": [
    "def chat_model(state:MessagesState):\n",
    "   messages = trim_messages(\n",
    "       state['messages'],\n",
    "       max_token =100,\n",
    "       strategy ='last',\n",
    "       token_counter = ChatGoogleGenerativeAI(model='gemini-1.5-flash'),\n",
    "       allow_partial = False )\n",
    "   \n",
    "   return {'messages':messages}\n",
    "\n",
    "# Build graph\n",
    "builder = StateGraph(MessagesState)\n",
    "builder.add_node(\"chat_model\", chat_model)\n",
    "builder.add_edge(START, \"chat_model\")\n",
    "builder.add_edge(\"chat_model\", END)\n",
    "graph = builder.compile()\n",
    "\n",
    "# View\n",
    "display(Image(graph.get_graph().draw_mermaid_png()))\n"
   ]
  },
  {
   "cell_type": "code",
   "execution_count": 48,
   "metadata": {},
   "outputs": [],
   "source": [
    "messages.append(output['messages'][-1])\n",
    "messages.append(HumanMessage(f\"Tell me where Orcas live!\", name=\"Lance\"))"
   ]
  },
  {
   "cell_type": "code",
   "execution_count": 51,
   "metadata": {},
   "outputs": [
    {
     "ename": "TypeError",
     "evalue": "trim_messages() missing 1 required keyword-only argument: 'token_counter'",
     "output_type": "error",
     "traceback": [
      "\u001b[1;31m---------------------------------------------------------------------------\u001b[0m",
      "\u001b[1;31mTypeError\u001b[0m                                 Traceback (most recent call last)",
      "Cell \u001b[1;32mIn[51], line 2\u001b[0m\n\u001b[0;32m      1\u001b[0m \u001b[38;5;66;03m# Example of trimming messages\u001b[39;00m\n\u001b[1;32m----> 2\u001b[0m trim_messages(\n\u001b[0;32m      3\u001b[0m             messages,\n\u001b[0;32m      4\u001b[0m             max_tokens\u001b[38;5;241m=\u001b[39m\u001b[38;5;241m100\u001b[39m,\n\u001b[0;32m      5\u001b[0m             strategy\u001b[38;5;241m=\u001b[39m\u001b[38;5;124m\"\u001b[39m\u001b[38;5;124mlast\u001b[39m\u001b[38;5;124m\"\u001b[39m,\n\u001b[0;32m      6\u001b[0m             allow_partial\u001b[38;5;241m=\u001b[39m\u001b[38;5;28;01mFalse\u001b[39;00m\n\u001b[0;32m      7\u001b[0m         )\n",
      "File \u001b[1;32mc:\\Users\\hp\\AppData\\Local\\anaconda3\\envs\\streamlit\\Lib\\site-packages\\langchain_core\\messages\\utils.py:378\u001b[0m, in \u001b[0;36m_runnable_support.<locals>.wrapped\u001b[1;34m(messages, **kwargs)\u001b[0m\n\u001b[0;32m    375\u001b[0m \u001b[38;5;28;01mfrom\u001b[39;00m \u001b[38;5;21;01mlangchain_core\u001b[39;00m\u001b[38;5;21;01m.\u001b[39;00m\u001b[38;5;21;01mrunnables\u001b[39;00m\u001b[38;5;21;01m.\u001b[39;00m\u001b[38;5;21;01mbase\u001b[39;00m \u001b[38;5;28;01mimport\u001b[39;00m RunnableLambda\n\u001b[0;32m    377\u001b[0m \u001b[38;5;28;01mif\u001b[39;00m messages \u001b[38;5;129;01mis\u001b[39;00m \u001b[38;5;129;01mnot\u001b[39;00m \u001b[38;5;28;01mNone\u001b[39;00m:\n\u001b[1;32m--> 378\u001b[0m     \u001b[38;5;28;01mreturn\u001b[39;00m func(messages, \u001b[38;5;241m*\u001b[39m\u001b[38;5;241m*\u001b[39mkwargs)\n\u001b[0;32m    379\u001b[0m \u001b[38;5;28;01melse\u001b[39;00m:\n\u001b[0;32m    380\u001b[0m     \u001b[38;5;28;01mreturn\u001b[39;00m RunnableLambda(partial(func, \u001b[38;5;241m*\u001b[39m\u001b[38;5;241m*\u001b[39mkwargs), name\u001b[38;5;241m=\u001b[39mfunc\u001b[38;5;241m.\u001b[39m\u001b[38;5;18m__name__\u001b[39m)\n",
      "\u001b[1;31mTypeError\u001b[0m: trim_messages() missing 1 required keyword-only argument: 'token_counter'"
     ]
    }
   ],
   "source": [
    "# Example of trimming messages\n",
    "trim_messages(\n",
    "            messages,\n",
    "            max_tokens=100,\n",
    "            token_counter=ChatGoogleGenerativeAI(model='gemini-1.5-flash'),\n",
    "            strategy=\"last\",\n",
    "            allow_partial=False\n",
    "        )"
   ]
  }
 ],
 "metadata": {
  "kernelspec": {
   "display_name": "streamlit",
   "language": "python",
   "name": "python3"
  },
  "language_info": {
   "codemirror_mode": {
    "name": "ipython",
    "version": 3
   },
   "file_extension": ".py",
   "mimetype": "text/x-python",
   "name": "python",
   "nbconvert_exporter": "python",
   "pygments_lexer": "ipython3",
   "version": "3.11.10"
  }
 },
 "nbformat": 4,
 "nbformat_minor": 2
}

{
 "cells": [
  {
   "cell_type": "code",
   "execution_count": 2,
   "metadata": {},
   "outputs": [],
   "source": [
    "! pip install -U -q langgraph"
   ]
  },
  {
   "cell_type": "code",
   "execution_count": 6,
   "metadata": {},
   "outputs": [],
   "source": [
    "from langgraph.graph import START,END,StateGraph\n",
    "from langgraph.graph.state import CompiledStateGraph\n",
    "from IPython.display import Image,display\n",
    "from typing_extensions import TypedDict\n"
   ]
  },
  {
   "cell_type": "code",
   "execution_count": 7,
   "metadata": {},
   "outputs": [
    {
     "data": {
      "image/png": "[encoded data removed]",
      "text/plain": [
       "<IPython.core.display.Image object>"
      ]
     },
     "metadata": {},
     "output_type": "display_data"
    }
   ],
   "source": [
    "class OverAllState(TypedDict):\n",
    "    foo:str\n",
    "\n",
    "class PrivateState(TypedDict):\n",
    "    bar:str\n",
    "    \n",
    "\n",
    "def node_1(state:OverAllState)->PrivateState:\n",
    "    return {\"bar\":state['foo'] +1}\n",
    "\n",
    "def node_2(state:PrivateState)->OverAllState:\n",
    "    return {\"foo\":state['bar'] +1}\n",
    "\n",
    "\n",
    "workflow:StateGraph = StateGraph(OverAllState)\n",
    "\n",
    "workflow.add_node(\"node1\",node_1)\n",
    "workflow.add_node('node2',node_2)\n",
    "\n",
    "workflow.add_edge(START,'node1')\n",
    "workflow.add_edge('node1','node2')\n",
    "workflow.add_edge('node2',END)\n",
    "\n",
    "graph : CompiledStateGraph = workflow.compile()\n",
    "\n",
    "display(Image(graph.get_graph().draw_mermaid_png()))\n"
   ]
  },
  {
   "cell_type": "code",
   "execution_count": 8,
   "metadata": {},
   "outputs": [
    {
     "data": {
      "text/plain": [
       "{'foo': 5}"
      ]
     },
     "execution_count": 8,
     "metadata": {},
     "output_type": "execute_result"
    }
   ],
   "source": [
    "graph.invoke({'foo':3})"
   ]
  },
  {
   "cell_type": "code",
   "execution_count": 19,
   "metadata": {},
   "outputs": [
    {
     "data": {
      "image/png": "[encoded data removed]",
      "text/plain": [
       "<IPython.core.display.Image object>"
      ]
     },
     "metadata": {},
     "output_type": "display_data"
    }
   ],
   "source": [
    "class InputState(TypedDict):\n",
    "    question:str\n",
    "class OutputState(TypedDict):\n",
    "    answer:str\n",
    "    \n",
    "class OverallState(TypedDict):\n",
    "    question:str\n",
    "    answer:str\n",
    "    notes:str\n",
    "    \n",
    "def thinking_node(state: InputState):\n",
    "    return {\"answer\": \"bye\", \"notes\": \"... his is name is Lance\"}\n",
    "\n",
    "def answer_node(state: OverallState):\n",
    "    return {\"answer\": \"bye Lance\"}\n",
    "\n",
    "\n",
    "workflow : StateGraph = StateGraph(OverallState,input=InputState,output=OutputState)\n",
    "\n",
    "workflow.add_node(\"thinking_node\",thinking_node)\n",
    "workflow.add_node('answer_node',answer_node)\n",
    "\n",
    "workflow.add_edge(START,\"thinking_node\")\n",
    "workflow.add_edge('thinking_node','answer_node')\n",
    "workflow.add_edge('answer_node',END)\n",
    "\n",
    "builder:CompiledStateGraph = workflow.compile()\n",
    "\n",
    "display(Image(builder.get_graph().draw_mermaid_png()))\n"
   ]
  },
  {
   "cell_type": "code",
   "execution_count": 20,
   "metadata": {},
   "outputs": [
    {
     "data": {
      "text/plain": [
       "{'answer': 'bye Lance'}"
      ]
     },
     "execution_count": 20,
     "metadata": {},
     "output_type": "execute_result"
    }
   ],
   "source": [
    "builder.invoke({\"question\":\"hi\"})"
   ]
  }
 ],
 "metadata": {
  "kernelspec": {
   "display_name": "streamlit",
   "language": "python",
   "name": "python3"
  },
  "language_info": {
   "codemirror_mode": {
    "name": "ipython",
    "version": 3
   },
   "file_extension": ".py",
   "mimetype": "text/x-python",
   "name": "python",
   "nbconvert_exporter": "python",
   "pygments_lexer": "ipython3",
   "version": "3.11.10"
  }
 },
 "nbformat": 4,
 "nbformat_minor": 2
}

{
 "cells": [
  {
   "cell_type": "code",
   "execution_count": 8,
   "metadata": {},
   "outputs": [],
   "source": [
    "! pip install -q -U langchain_core langgraph langchain-google-genai"
   ]
  },
  {
   "cell_type": "code",
   "execution_count": 14,
   "metadata": {},
   "outputs": [
    {
     "name": "stderr",
     "output_type": "stream",
     "text": [
      "Key 'title' is not supported in schema, ignoring\n",
      "Key 'title' is not supported in schema, ignoring\n",
      "Key 'title' is not supported in schema, ignoring\n"
     ]
    },
    {
     "name": "stdout",
     "output_type": "stream",
     "text": [
      "{'name': 'Multiply', 'description': 'Multiplying two numbers\\n\\nArgs:\\na: first int\\nb: second int', 'parameters': {'type_': 6, 'description': 'Multiplying two numbers\\n\\nArgs:\\na: first int\\nb: second int ', 'properties': {'a': {'type_': 3, 'format_': '', 'description': '', 'nullable': False, 'enum': [], 'max_items': '0', 'min_items': '0', 'properties': {}, 'required': []}, 'b': {'type_': 3, 'format_': '', 'description': '', 'nullable': False, 'enum': [], 'max_items': '0', 'min_items': '0', 'properties': {}, 'required': []}}, 'required': ['a', 'b'], 'format_': '', 'nullable': False, 'enum': [], 'max_items': '0', 'min_items': '0'}}\n"
     ]
    },
    {
     "data": {
      "text/plain": [
       "{'function_call': {'name': 'Multiply', 'arguments': '{\"a\": 2.0, \"b\": 3.0}'}}"
      ]
     },
     "execution_count": 14,
     "metadata": {},
     "output_type": "execute_result"
    }
   ],
   "source": [
    "from langchain_google_genai import ChatGoogleGenerativeAI\n",
    "import os\n",
    "from dotenv import load_dotenv\n",
    "from dotenv import load_dotenv\n",
    "import os\n",
    "from typing_extensions import TypedDict\n",
    "from langchain_core.messages import HumanMessage,AnyMessage,AIMessage,SystemMessage\n",
    "\n",
    "#Loading Environment Variables\n",
    "load_dotenv()\n",
    "\n",
    "#Storing api key in a variable\n",
    "api_key = os.getenv(\"GEMINI_API_KEY\")\n",
    "\n",
    "llm : ChatGoogleGenerativeAI = ChatGoogleGenerativeAI(model=\"gemini-1.5-flash\",api_key=api_key)\n",
    "\n",
    "def Multiply(a:int,b:int):\n",
    "    \"\"\"\n",
    "    Multiplying two numbers\n",
    "    \n",
    "    Args:\n",
    "    a: first int\n",
    "    b: second int \n",
    "    \"\"\"\n",
    "    return a*b\n",
    "\n",
    "llm_with_tool = llm.bind_tools([Multiply])\n",
    "\n",
    "function_call = llm_with_tool.invoke([HumanMessage(content=\"What is 2 multiply 3 ?\", name =\"Shahmir\")])\n",
    "function_call.additional_kwargs\n"
   ]
  },
  {
   "cell_type": "code",
   "execution_count": 15,
   "metadata": {},
   "outputs": [
    {
     "data": {
      "text/plain": [
       "[HumanMessage(content='Hello !', additional_kwargs={}, response_metadata={}, name='Shahmir', id='6ba35342-d655-484f-8004-ae6d60913f79'),\n",
       " AIMessage(content='Hi! How can I help you', additional_kwargs={}, response_metadata={}, id='136f738a-ea0a-4038-9b2e-bfc55be28fa0')]"
      ]
     },
     "execution_count": 15,
     "metadata": {},
     "output_type": "execute_result"
    }
   ],
   "source": [
    "from langgraph.graph.message import add_messages\n",
    "\n",
    "intial_message = HumanMessage(content=\"Hello !\",name=\"Shahmir\")\n",
    "new_message = AIMessage(content=\"Hi! How can I help you\")\n",
    "\n",
    "add_messages(intial_message,new_message)"
   ]
  },
  {
   "cell_type": "code",
   "execution_count": 18,
   "metadata": {},
   "outputs": [],
   "source": [
    "from langgraph.graph import MessagesState\n",
    "from langgraph.graph import StateGraph\n",
    "from langgraph.graph.graph import START,CompiledGraph,END\n",
    "\n",
    "class MessagesState(MessagesState):\n",
    "    pass\n",
    "\n",
    "\n",
    "def llm_calling(state:MessagesState):\n",
    "    return {\"messages\": [llm_with_tool.invoke(state[\"messages\"])]}\n",
    "\n",
    "builder : StateGraph = StateGraph(MessagesState)\n",
    "\n",
    "builder.add_node(\"llm_calling\",llm_calling)\n",
    "\n",
    "builder.add_edge(START,\"llm_calling\")\n",
    "builder.add_edge('llm_calling',END)\n",
    "\n",
    "graph: CompiledGraph = builder.compile()"
   ]
  },
  {
   "cell_type": "code",
   "execution_count": 19,
   "metadata": {},
   "outputs": [
    {
     "data": {
      "image/jpeg": "[encoded data removed]",
      "text/plain": [
       "<IPython.core.display.Image object>"
      ]
     },
     "metadata": {},
     "output_type": "display_data"
    }
   ],
   "source": [
    "from IPython.display import display,Image\n",
    "\n",
    "display(Image(graph.get_graph().draw_mermaid_png()))"
   ]
  },
  {
   "cell_type": "code",
   "execution_count": 23,
   "metadata": {},
   "outputs": [
    {
     "name": "stdout",
     "output_type": "stream",
     "text": [
      "{'name': 'Multiply', 'description': 'Multiplying two numbers\\n\\nArgs:\\na: first int\\nb: second int', 'parameters': {'type_': 6, 'description': 'Multiplying two numbers\\n\\nArgs:\\na: first int\\nb: second int ', 'properties': {'a': {'type_': 3, 'format_': '', 'description': '', 'nullable': False, 'enum': [], 'max_items': '0', 'min_items': '0', 'properties': {}, 'required': []}, 'b': {'type_': 3, 'format_': '', 'description': '', 'nullable': False, 'enum': [], 'max_items': '0', 'min_items': '0', 'properties': {}, 'required': []}}, 'required': ['a', 'b'], 'format_': '', 'nullable': False, 'enum': [], 'max_items': '0', 'min_items': '0'}}\n",
      "================================\u001b[1m Human Message \u001b[0m=================================\n",
      "\n",
      "Multiply 7 with 7\n",
      "==================================\u001b[1m Ai Message \u001b[0m==================================\n",
      "Tool Calls:\n",
      "  Multiply (872478f1-f389-4fee-a28d-457c981111c4)\n",
      " Call ID: 872478f1-f389-4fee-a28d-457c981111c4\n",
      "  Args:\n",
      "    a: 7.0\n",
      "    b: 7.0\n"
     ]
    }
   ],
   "source": [
    "messages = graph.invoke({\"messages\": HumanMessage(content=\"Multiply 7 with 7\")})\n",
    "\n",
    "for m in messages[\"messages\"]:\n",
    "    m.pretty_print()"
   ]
  }
 ],
 "metadata": {
  "kernelspec": {
   "display_name": "streamlit",
   "language": "python",
   "name": "python3"
  },
  "language_info": {
   "codemirror_mode": {
    "name": "ipython",
    "version": 3
   },
   "file_extension": ".py",
   "mimetype": "text/x-python",
   "name": "python",
   "nbconvert_exporter": "python",
   "pygments_lexer": "ipython3",
   "version": "3.11.10"
  }
 },
 "nbformat": 4,
 "nbformat_minor": 2
}
